{
 "metadata": {
  "name": "VRK"
 },
 "nbformat": 3,
 "nbformat_minor": 0,
 "worksheets": [
  {
   "cells": [
    {
     "cell_type": "markdown",
     "metadata": {},
     "source": [
      "Volterra Runge-Kutta formulas\n",
      "=============================\n",
      "\n",
      "###Version 0.1\n",
      "\n",
      "\n",
      "This code uses the Pyhton package sumpy and nviepy to generate formulas up to order $p=4$."
     ]
    },
    {
     "cell_type": "markdown",
     "metadata": {},
     "source": [
      "We first load sympy printing support, as well as all of sympy:"
     ]
    },
    {
     "cell_type": "code",
     "collapsed": false,
     "input": [
      "%load_ext sympy.interactive.ipythonprinting\n",
      "%pylab inline\n",
      "\n",
      "from __future__ import division\n",
      "from sympy import *"
     ],
     "language": "python",
     "metadata": {},
     "outputs": [
      {
       "output_type": "stream",
       "stream": "stdout",
       "text": [
        "\n",
        "Welcome to pylab, a matplotlib-based Python environment [backend: module://IPython.zmq.pylab.backend_inline].\n",
        "For more information, type 'help(pylab)'.\n"
       ]
      }
     ],
     "prompt_number": 1
    },
    {
     "cell_type": "code",
     "collapsed": false,
     "input": [
      "from nviepy import vrk_methods as vrk  #Now let us load our nviepy."
     ],
     "language": "python",
     "metadata": {},
     "outputs": [],
     "prompt_number": 2
    },
    {
     "cell_type": "markdown",
     "metadata": {},
     "source": [
      "One stage VRK-methods and order $p=2$\n",
      "-------------------------------------"
     ]
    },
    {
     "cell_type": "code",
     "collapsed": false,
     "input": [
      "s=1\n",
      "p=2\n",
      "b,c,A,e,D=vrk.create_arrays('VRK','imp',s)\n",
      "Matrix(b.T), Matrix(e), Matrix(c), Matrix(A), Matrix(D)"
     ],
     "language": "python",
     "metadata": {},
     "outputs": [
      {
       "latex": [
        "$$\\begin{pmatrix}\\left[\\begin{smallmatrix}b_{1}\\end{smallmatrix}\\right], & \\left[\\begin{smallmatrix}e_{1}\\end{smallmatrix}\\right], & \\left[\\begin{smallmatrix}c_{1}\\end{smallmatrix}\\right], & \\left[\\begin{smallmatrix}a_{11}\\end{smallmatrix}\\right], & \\left[\\begin{smallmatrix}d_{11}\\end{smallmatrix}\\right]\\end{pmatrix}$$"
       ],
       "output_type": "pyout",
       "prompt_number": 3,
       "text": [
        "([b\u2081], [e\u2081], [c\u2081], [a\u2081\u2081], [d\u2081\u2081])"
       ]
      }
     ],
     "prompt_number": 3
    },
    {
     "cell_type": "code",
     "collapsed": false,
     "input": [
      "eqns=vrk.gen_order_conditions(p,[b,c,A,e,D])\n",
      "eqns"
     ],
     "language": "python",
     "metadata": {},
     "outputs": [
      {
       "latex": [
        "$$\\begin{bmatrix}b_{1} = 1, & b_{1} e_{1} = 1, & b_{1} c_{1} = \\frac{1}{2}, & c_{1} = a_{11}\\end{bmatrix}$$"
       ],
       "output_type": "pyout",
       "prompt_number": 4,
       "text": [
        "[b\u2081 = 1, b\u2081\u22c5e\u2081 = 1, b\u2081\u22c5c\u2081 = 1/2, c\u2081 = a\u2081\u2081]"
       ]
      }
     ],
     "prompt_number": 4
    },
    {
     "cell_type": "code",
     "collapsed": false,
     "input": [
      "sol=solve(eqns)\n",
      "sol"
     ],
     "language": "python",
     "metadata": {},
     "outputs": [
      {
       "latex": [
        "$$\\begin{bmatrix}\\begin{Bmatrix}a_{11} : \\frac{1}{2}, & b_{1} : 1, & c_{1} : \\frac{1}{2}, & e_{1} : 1\\end{Bmatrix}\\end{bmatrix}$$"
       ],
       "output_type": "pyout",
       "prompt_number": 5,
       "text": [
        "[{a\u2081\u2081: 1/2, b\u2081: 1, c\u2081: 1/2, e\u2081: 1}]"
       ]
      }
     ],
     "prompt_number": 5
    },
    {
     "cell_type": "code",
     "collapsed": false,
     "input": [
      "bs,cs,As,es,Ds=vrk.substitute([b.T,c,A,e,D],sol[0])\n",
      "bs,cs,As,es,Ds"
     ],
     "language": "python",
     "metadata": {},
     "outputs": [
      {
       "latex": [
        "$$\\begin{pmatrix}\\left[\\begin{smallmatrix}1\\end{smallmatrix}\\right], & \\left[\\begin{smallmatrix}\\frac{1}{2}\\end{smallmatrix}\\right], & \\left[\\begin{smallmatrix}\\frac{1}{2}\\end{smallmatrix}\\right], & \\left[\\begin{smallmatrix}1\\end{smallmatrix}\\right], & \\left[\\begin{smallmatrix}d_{11}\\end{smallmatrix}\\right]\\end{pmatrix}$$"
       ],
       "output_type": "pyout",
       "prompt_number": 6,
       "text": [
        "([1], [1/2], [1/2], [1], [d\u2081\u2081])"
       ]
      }
     ],
     "prompt_number": 6
    },
    {
     "cell_type": "markdown",
     "metadata": {},
     "source": [
      "For $d_{11}=1$ ($=e_1$) we obtain the Bel'tyukov-type midpoint method"
     ]
    },
    {
     "cell_type": "code",
     "collapsed": false,
     "input": [
      "vrk.substitute([bs,cs,As,es,Ds],{D[0][0]:1})"
     ],
     "language": "python",
     "metadata": {},
     "outputs": [
      {
       "latex": [
        "$$\\begin{pmatrix}\\left[\\begin{smallmatrix}1\\end{smallmatrix}\\right], & \\left[\\begin{smallmatrix}\\frac{1}{2}\\end{smallmatrix}\\right], & \\left[\\begin{smallmatrix}\\frac{1}{2}\\end{smallmatrix}\\right], & \\left[\\begin{smallmatrix}1\\end{smallmatrix}\\right], & \\left[\\begin{smallmatrix}1\\end{smallmatrix}\\right]\\end{pmatrix}$$"
       ],
       "output_type": "pyout",
       "prompt_number": 7,
       "text": [
        "([1], [1/2], [1/2], [1], [1])"
       ]
      }
     ],
     "prompt_number": 7
    },
    {
     "cell_type": "markdown",
     "metadata": {},
     "source": [
      "while for the choice $d_{11}=1/2$ ($=c_1$), we have the Pouzet-type midpoint method"
     ]
    },
    {
     "cell_type": "code",
     "collapsed": false,
     "input": [
      "vrk.substitute([bs,cs,As,es,Ds],{D[0][0]:Rational(1,2)})"
     ],
     "language": "python",
     "metadata": {},
     "outputs": [
      {
       "latex": [
        "$$\\begin{pmatrix}\\left[\\begin{smallmatrix}1\\end{smallmatrix}\\right], & \\left[\\begin{smallmatrix}\\frac{1}{2}\\end{smallmatrix}\\right], & \\left[\\begin{smallmatrix}\\frac{1}{2}\\end{smallmatrix}\\right], & \\left[\\begin{smallmatrix}1\\end{smallmatrix}\\right], & \\left[\\begin{smallmatrix}\\frac{1}{2}\\end{smallmatrix}\\right]\\end{pmatrix}$$"
       ],
       "output_type": "pyout",
       "prompt_number": 8,
       "text": [
        "([1], [1/2], [1/2], [1], [1/2])"
       ]
      }
     ],
     "prompt_number": 8
    },
    {
     "cell_type": "markdown",
     "metadata": {},
     "source": [
      "Explicit two-stage VRK-methods with order $p=2$\n",
      "-----------------------------------------------"
     ]
    },
    {
     "cell_type": "code",
     "collapsed": false,
     "input": [
      "s=2\n",
      "p=2\n",
      "b,c,A,e,D=vrk.create_arrays('VRK','explicit',s)\n",
      "Matrix(b.T), Matrix(e), Matrix(c), Matrix(A), Matrix(D)"
     ],
     "language": "python",
     "metadata": {},
     "outputs": [
      {
       "latex": [
        "$$\\begin{pmatrix}\\left[\\begin{smallmatrix}b_{1} & b_{2}\\end{smallmatrix}\\right], & \\left[\\begin{smallmatrix}e_{1}\\\\e_{2}\\end{smallmatrix}\\right], & \\left[\\begin{smallmatrix}c_{1}\\\\c_{2}\\end{smallmatrix}\\right], & \\left[\\begin{smallmatrix}0 & 0\\\\a_{21} & 0\\end{smallmatrix}\\right], & \\left[\\begin{smallmatrix}d_{11} & d_{12}\\\\d_{21} & d_{22}\\end{smallmatrix}\\right]\\end{pmatrix}$$"
       ],
       "output_type": "pyout",
       "prompt_number": 9,
       "text": [
        "\u239b[b\u2081  b\u2082], \u23a1e\u2081\u23a4, \u23a1c\u2081\u23a4, \u23a1 0   0\u23a4, \u23a1d\u2081\u2081  d\u2081\u2082\u23a4\u239e\n",
        "\u239c          \u23a2  \u23a5  \u23a2  \u23a5  \u23a2      \u23a5  \u23a2        \u23a5\u239f\n",
        "\u239d          \u23a3e\u2082\u23a6  \u23a3c\u2082\u23a6  \u23a3a\u2082\u2081  0\u23a6  \u23a3d\u2082\u2081  d\u2082\u2082\u23a6\u23a0"
       ]
      }
     ],
     "prompt_number": 9
    },
    {
     "cell_type": "code",
     "collapsed": false,
     "input": [
      "eqns=vrk.gen_order_conditions(p,[b,c,A,e,D])\n",
      "eqns"
     ],
     "language": "python",
     "metadata": {},
     "outputs": [
      {
       "latex": [
        "$$\\begin{bmatrix}b_{1} + b_{2} = 1, & b_{1} e_{1} + b_{2} e_{2} = 1, & b_{1} c_{1} + b_{2} c_{2} = \\frac{1}{2}, & c_{1} = 0, & c_{2} = a_{21}\\end{bmatrix}$$"
       ],
       "output_type": "pyout",
       "prompt_number": 10,
       "text": [
        "[b\u2081 + b\u2082 = 1, b\u2081\u22c5e\u2081 + b\u2082\u22c5e\u2082 = 1, b\u2081\u22c5c\u2081 + b\u2082\u22c5c\u2082 = 1/2, c\u2081 = 0, c\u2082 = a\u2082\u2081]"
       ]
      }
     ],
     "prompt_number": 10
    },
    {
     "cell_type": "code",
     "collapsed": false,
     "input": [
      "sol=solve(eqns)\n",
      "sol"
     ],
     "language": "python",
     "metadata": {},
     "outputs": [
      {
       "latex": [
        "$$\\begin{bmatrix}\\begin{Bmatrix}a_{21} : \\frac{e_{1} - e_{2}}{2 e_{1} -2}, & b_{1} : \\frac{- e_{2} + 1}{e_{1} - e_{2}}, & b_{2} : \\frac{e_{1} -1}{e_{1} - e_{2}}, & c_{1} : 0, & c_{2} : \\frac{e_{1} - e_{2}}{2 e_{1} -2}\\end{Bmatrix}\\end{bmatrix}$$"
       ],
       "output_type": "pyout",
       "prompt_number": 11,
       "text": [
        "\u23a1\u23a7      e\u2081 - e\u2082        -e\u2082 + 1       e\u2081 - 1              e\u2081 - e\u2082  \u23ab\u23a4\n",
        "\u23a2\u23a8a\u2082\u2081: \u2500\u2500\u2500\u2500\u2500\u2500\u2500\u2500\u2500\u2500, b\u2081: \u2500\u2500\u2500\u2500\u2500\u2500\u2500, b\u2082: \u2500\u2500\u2500\u2500\u2500\u2500\u2500, c\u2081: 0, c\u2082: \u2500\u2500\u2500\u2500\u2500\u2500\u2500\u2500\u2500\u2500\u23ac\u23a5\n",
        "\u23a3\u23a9     2\u22c5(e\u2081 - 1)      e\u2081 - e\u2082      e\u2081 - e\u2082             2\u22c5(e\u2081 - 1)\u23ad\u23a6"
       ]
      }
     ],
     "prompt_number": 11
    },
    {
     "cell_type": "code",
     "collapsed": false,
     "input": [
      "bs,cs,As,es,Ds=vrk.substitute([b.T,c,A,e,D],sol[0])\n",
      "bs,cs,As,es,Ds"
     ],
     "language": "python",
     "metadata": {},
     "outputs": [
      {
       "latex": [
        "$$\\begin{pmatrix}\\left[\\begin{smallmatrix}- \\frac{e_{2}}{e_{1} - e_{2}} + \\frac{1}{e_{1} - e_{2}} & \\frac{e_{1}}{e_{1} - e_{2}} - \\frac{1}{e_{1} - e_{2}}\\end{smallmatrix}\\right], & \\left[\\begin{smallmatrix}0\\\\\\frac{e_{1}}{2 e_{1} -2} - \\frac{e_{2}}{2 e_{1} -2}\\end{smallmatrix}\\right], & \\left[\\begin{smallmatrix}0 & 0\\\\\\frac{e_{1}}{2 e_{1} -2} - \\frac{e_{2}}{2 e_{1} -2} & 0\\end{smallmatrix}\\right], & \\left[\\begin{smallmatrix}e_{1}\\\\e_{2}\\end{smallmatrix}\\right], & \\left[\\begin{smallmatrix}d_{11} & d_{12}\\\\d_{21} & d_{22}\\end{smallmatrix}\\right]\\end{pmatrix}$$"
       ],
       "output_type": "pyout",
       "prompt_number": 12,
       "text": [
        "\u239b\u23a1     e\u2082        1        e\u2081        1   \u23a4                                     \n",
        "\u239c\u23a2- \u2500\u2500\u2500\u2500\u2500\u2500\u2500 + \u2500\u2500\u2500\u2500\u2500\u2500\u2500  \u2500\u2500\u2500\u2500\u2500\u2500\u2500 - \u2500\u2500\u2500\u2500\u2500\u2500\u2500\u23a5, \u23a1           0           \u23a4, \u23a1       \n",
        "\u239c\u23a3  e\u2081 - e\u2082   e\u2081 - e\u2082  e\u2081 - e\u2082   e\u2081 - e\u2082\u23a6  \u23a2                       \u23a5  \u23a2       \n",
        "\u239c                                          \u23a2    e\u2081           e\u2082    \u23a5  \u23a2    e\u2081 \n",
        "\u239c                                          \u23a2\u2500\u2500\u2500\u2500\u2500\u2500\u2500\u2500\u2500\u2500 - \u2500\u2500\u2500\u2500\u2500\u2500\u2500\u2500\u2500\u2500\u23a5  \u23a2\u2500\u2500\u2500\u2500\u2500\u2500\u2500\n",
        "\u239d                                          \u23a32\u22c5(e\u2081 - 1)   2\u22c5(e\u2081 - 1)\u23a6  \u23a32\u22c5(e\u2081 -\n",
        "\n",
        "                                      \u239e\n",
        "    0             0\u23a4, \u23a1e\u2081\u23a4, \u23a1d\u2081\u2081  d\u2081\u2082\u23a4\u239f\n",
        "                   \u23a5  \u23a2  \u23a5  \u23a2        \u23a5\u239f\n",
        "          e\u2082       \u23a5  \u23a3e\u2082\u23a6  \u23a3d\u2082\u2081  d\u2082\u2082\u23a6\u239f\n",
        "\u2500\u2500\u2500 - \u2500\u2500\u2500\u2500\u2500\u2500\u2500\u2500\u2500\u2500  0\u23a5                  \u239f\n",
        " 1)   2\u22c5(e\u2081 - 1)   \u23a6                  \u23a0"
       ]
      }
     ],
     "prompt_number": 12
    },
    {
     "cell_type": "code",
     "collapsed": false,
     "input": [
      "vrk.substitute([bs,cs,As,es,Ds],{D[1][0]:1, e[0][0]:1, e[1][0]:1})"
     ],
     "language": "python",
     "metadata": {},
     "outputs": [
      {
       "latex": [
        "$$\\begin{pmatrix}\\left[\\begin{smallmatrix}\\bot & 0\\end{smallmatrix}\\right], & \\left[\\begin{smallmatrix}0\\\\\\bot\\end{smallmatrix}\\right], & \\left[\\begin{smallmatrix}0 & 0\\\\\\bot & 0\\end{smallmatrix}\\right], & \\left[\\begin{smallmatrix}1\\\\1\\end{smallmatrix}\\right], & \\left[\\begin{smallmatrix}d_{11} & d_{12}\\\\1 & d_{22}\\end{smallmatrix}\\right]\\end{pmatrix}$$"
       ],
       "output_type": "pyout",
       "prompt_number": 13,
       "text": [
        "\u239b[nan  0], \u23a1 0 \u23a4, \u23a1 0   0\u23a4, \u23a11\u23a4, \u23a1d\u2081\u2081  d\u2081\u2082\u23a4\u239e\n",
        "\u239c          \u23a2   \u23a5  \u23a2      \u23a5  \u23a2 \u23a5  \u23a2        \u23a5\u239f\n",
        "\u239d          \u23a3nan\u23a6  \u23a3nan  0\u23a6  \u23a31\u23a6  \u23a3 1   d\u2082\u2082\u23a6\u23a0"
       ]
      }
     ],
     "prompt_number": 13
    },
    {
     "cell_type": "code",
     "collapsed": false,
     "input": [
      "sol2=solve(eqns,[b[0][0],b[1][0],e[1][0],c[0][0],A[1][0]],dict=True)\n",
      "sol2"
     ],
     "language": "python",
     "metadata": {},
     "outputs": [
      {
       "latex": [
        "$$\\begin{bmatrix}\\begin{Bmatrix}a_{21} : c_{2}, & b_{1} : \\frac{2 c_{2} -1}{2 c_{2}}, & b_{2} : \\frac{1}{2 c_{2}}, & c_{1} : 0, & e_{2} : - 2 c_{2} e_{1} + 2 c_{2} + e_{1}\\end{Bmatrix}\\end{bmatrix}$$"
       ],
       "output_type": "pyout",
       "prompt_number": 14,
       "text": [
        "\u23a1\u23a7             2\u22c5c\u2082 - 1       1                                   \u23ab\u23a4\n",
        "\u23a2\u23a8a\u2082\u2081: c\u2082, b\u2081: \u2500\u2500\u2500\u2500\u2500\u2500\u2500\u2500, b\u2082: \u2500\u2500\u2500\u2500, c\u2081: 0, e\u2082: -2\u22c5c\u2082\u22c5e\u2081 + 2\u22c5c\u2082 + e\u2081\u23ac\u23a5\n",
        "\u23a3\u23a9               2\u22c5c\u2082        2\u22c5c\u2082                                 \u23ad\u23a6"
       ]
      }
     ],
     "prompt_number": 14
    },
    {
     "cell_type": "code",
     "collapsed": false,
     "input": [
      "bs,cs,As,es,Ds=vrk.substitute([b.T,c,A,e,D],sol2[0])\n",
      "bs,cs,As,es,Ds"
     ],
     "language": "python",
     "metadata": {},
     "outputs": [
      {
       "latex": [
        "$$\\begin{pmatrix}\\left[\\begin{smallmatrix}1 - \\frac{1}{2 c_{2}} & \\frac{1}{2 c_{2}}\\end{smallmatrix}\\right], & \\left[\\begin{smallmatrix}0\\\\c_{2}\\end{smallmatrix}\\right], & \\left[\\begin{smallmatrix}0 & 0\\\\c_{2} & 0\\end{smallmatrix}\\right], & \\left[\\begin{smallmatrix}e_{1}\\\\- 2 c_{2} e_{1} + 2 c_{2} + e_{1}\\end{smallmatrix}\\right], & \\left[\\begin{smallmatrix}d_{11} & d_{12}\\\\d_{21} & d_{22}\\end{smallmatrix}\\right]\\end{pmatrix}$$"
       ],
       "output_type": "pyout",
       "prompt_number": 15,
       "text": [
        "\u239b\u23a1     1     1  \u23a4                                                   \u239e\n",
        "\u239c\u23a21 - \u2500\u2500\u2500\u2500  \u2500\u2500\u2500\u2500\u23a5, \u23a10 \u23a4, \u23a10   0\u23a4, \u23a1         e\u2081         \u23a4, \u23a1d\u2081\u2081  d\u2081\u2082\u23a4\u239f\n",
        "\u239c\u23a3    2\u22c5c\u2082  2\u22c5c\u2082\u23a6  \u23a2  \u23a5  \u23a2     \u23a5  \u23a2                    \u23a5  \u23a2        \u23a5\u239f\n",
        "\u239d                  \u23a3c\u2082\u23a6  \u23a3c\u2082  0\u23a6  \u23a3-2\u22c5c\u2082\u22c5e\u2081 + 2\u22c5c\u2082 + e\u2081\u23a6  \u23a3d\u2082\u2081  d\u2082\u2082\u23a6\u23a0"
       ]
      }
     ],
     "prompt_number": 15
    },
    {
     "cell_type": "code",
     "collapsed": false,
     "input": [
      "vrk.substitute([bs,cs,As,es,Ds],{D[1][0]:1, e[0][0]:1, c[1][0]:Rational(2,3)})"
     ],
     "language": "python",
     "metadata": {},
     "outputs": [
      {
       "latex": [
        "$$\\begin{pmatrix}\\left[\\begin{smallmatrix}\\frac{1}{4} & \\frac{3}{4}\\end{smallmatrix}\\right], & \\left[\\begin{smallmatrix}0\\\\\\frac{2}{3}\\end{smallmatrix}\\right], & \\left[\\begin{smallmatrix}0 & 0\\\\\\frac{2}{3} & 0\\end{smallmatrix}\\right], & \\left[\\begin{smallmatrix}1\\\\1\\end{smallmatrix}\\right], & \\left[\\begin{smallmatrix}d_{11} & d_{12}\\\\1 & d_{22}\\end{smallmatrix}\\right]\\end{pmatrix}$$"
       ],
       "output_type": "pyout",
       "prompt_number": 16,
       "text": [
        "\u239b[1/4  3/4], \u23a1 0 \u23a4, \u23a1 0   0\u23a4, \u23a11\u23a4, \u23a1d\u2081\u2081  d\u2081\u2082\u23a4\u239e\n",
        "\u239c            \u23a2   \u23a5  \u23a2      \u23a5  \u23a2 \u23a5  \u23a2        \u23a5\u239f\n",
        "\u239d            \u23a32/3\u23a6  \u23a32/3  0\u23a6  \u23a31\u23a6  \u23a3 1   d\u2082\u2082\u23a6\u23a0"
       ]
      }
     ],
     "prompt_number": 16
    }
   ],
   "metadata": {}
  }
 ]
}