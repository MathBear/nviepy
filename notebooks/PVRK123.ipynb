{
 "metadata": {
  "name": "PVRK123"
 },
 "nbformat": 3,
 "nbformat_minor": 0,
 "worksheets": [
  {
   "cells": [
    {
     "cell_type": "markdown",
     "metadata": {},
     "source": [
      "Pouzet Volterra Runge-Kutta formulas\n",
      "====================================\n",
      "\n",
      "###Version 0.1\n",
      "\n",
      "\n",
      "This code uses the Pyhton package sympy to generate formulas up to stages $s=3$."
     ]
    },
    {
     "cell_type": "markdown",
     "metadata": {},
     "source": [
      "We first load sympy printing support, as well as all of sympy:"
     ]
    },
    {
     "cell_type": "code",
     "collapsed": false,
     "input": [
      "%load_ext sympy.interactive.ipythonprinting\n",
      "\n",
      "from __future__ import division\n",
      "from sympy import *"
     ],
     "language": "python",
     "metadata": {},
     "outputs": [],
     "prompt_number": 1
    },
    {
     "cell_type": "code",
     "collapsed": false,
     "input": [
      "from nviepy import vrk_methods as vrk  #Now let us load our nviepy."
     ],
     "language": "python",
     "metadata": {},
     "outputs": [],
     "prompt_number": 2
    },
    {
     "cell_type": "markdown",
     "metadata": {},
     "source": [
      "Diagonally implicit PVRK formula of order $p=3$ and $s=2$ stages\n",
      "----------------------------------------------------------------"
     ]
    },
    {
     "cell_type": "code",
     "collapsed": false,
     "input": [
      "s=2\n",
      "p=3\n",
      "b,c,A=vrk.create_arrays('PVRK','diagimp',s)\n",
      "Matrix(b.T), Matrix(c), Matrix(A)"
     ],
     "language": "python",
     "metadata": {},
     "outputs": [
      {
       "latex": [
        "$$\\begin{pmatrix}\\left[\\begin{smallmatrix}b_{1} & b_{2}\\end{smallmatrix}\\right], & \\left[\\begin{smallmatrix}c_{1}\\\\c_{2}\\end{smallmatrix}\\right], & \\left[\\begin{smallmatrix}a_{11} & 0\\\\a_{21} & a_{22}\\end{smallmatrix}\\right]\\end{pmatrix}$$"
       ],
       "output_type": "pyout",
       "prompt_number": 3,
       "text": [
        "\u239b[b\u2081  b\u2082], \u23a1c\u2081\u23a4, \u23a1a\u2081\u2081   0 \u23a4\u239e\n",
        "\u239c          \u23a2  \u23a5  \u23a2        \u23a5\u239f\n",
        "\u239d          \u23a3c\u2082\u23a6  \u23a3a\u2082\u2081  a\u2082\u2082\u23a6\u23a0"
       ]
      }
     ],
     "prompt_number": 3
    },
    {
     "cell_type": "code",
     "collapsed": false,
     "input": [
      "eqns=vrk.gen_order_conditions(p,[b,c,A])\n",
      "eqns"
     ],
     "language": "python",
     "metadata": {},
     "outputs": [
      {
       "latex": [
        "$$\\begin{bmatrix}b_{1} + b_{2} = 1, & b_{1} c_{1} + b_{2} c_{2} = \\frac{1}{2}, & a_{11} b_{1} c_{1} + a_{21} b_{2} c_{1} + a_{22} b_{2} c_{2} = \\frac{1}{6}, & b_{1} c_{1}^{2} + b_{2} c_{2}^{2} = \\frac{1}{3}, & c_{1} = a_{11}, & c_{2} = a_{21} + a_{22}\\end{bmatrix}$$"
       ],
       "output_type": "pyout",
       "prompt_number": 4,
       "text": [
        "\u23a1                                                                             \n",
        "\u23a3b\u2081 + b\u2082 = 1, b\u2081\u22c5c\u2081 + b\u2082\u22c5c\u2082 = 1/2, a\u2081\u2081\u22c5b\u2081\u22c5c\u2081 + a\u2082\u2081\u22c5b\u2082\u22c5c\u2081 + a\u2082\u2082\u22c5b\u2082\u22c5c\u2082 = 1/6, b\u2081\n",
        "\n",
        "   2        2                                \u23a4\n",
        "\u22c5c\u2081  + b\u2082\u22c5c\u2082  = 1/3, c\u2081 = a\u2081\u2081, c\u2082 = a\u2082\u2081 + a\u2082\u2082\u23a6"
       ]
      }
     ],
     "prompt_number": 4
    },
    {
     "cell_type": "code",
     "collapsed": false,
     "input": [
      "sol=solve(eqns)\n",
      "sol"
     ],
     "language": "python",
     "metadata": {},
     "outputs": [
      {
       "latex": [
        "$$\\begin{bmatrix}\\begin{Bmatrix}a_{11} : \\frac{3 c_{2} -2}{6 c_{2} -3}, & a_{21} : 2 c_{2} -1, & a_{22} : - c_{2} + 1, & b_{1} : \\frac{3}{4} \\frac{\\left(2 c_{2} -1\\right)^{2}}{3 c_{2}^{2} - 3 c_{2} + 1}, & b_{2} : \\frac{1}{12 c_{2}^{2} - 12 c_{2} + 4}, & c_{1} : \\frac{3 c_{2} -2}{6 c_{2} -3}\\end{Bmatrix}\\end{bmatrix}$$"
       ],
       "output_type": "pyout",
       "prompt_number": 5,
       "text": [
        "\u23a1\u23a7                                                                   2        \n",
        "\u23a2\u23aa       3\u22c5c\u2082 - 2                                        3\u22c5(2\u22c5c\u2082 - 1)         \n",
        "\u23a2\u23a8a\u2081\u2081: \u2500\u2500\u2500\u2500\u2500\u2500\u2500\u2500\u2500\u2500\u2500\u2500, a\u2082\u2081: 2\u22c5c\u2082 - 1, a\u2082\u2082: -c\u2082 + 1, b\u2081: \u2500\u2500\u2500\u2500\u2500\u2500\u2500\u2500\u2500\u2500\u2500\u2500\u2500\u2500\u2500\u2500\u2500\u2500\u2500\u2500, b\u2082\n",
        "\u23a2\u23aa     3\u22c5(2\u22c5c\u2082 - 1)                                     \u239b    2           \u239e    \n",
        "\u23a3\u23a9                                                    4\u22c5\u239d3\u22c5c\u2082  - 3\u22c5c\u2082 + 1\u23a0    \n",
        "\n",
        "                                        \u23ab\u23a4\n",
        "           1                  3\u22c5c\u2082 - 2  \u23aa\u23a5\n",
        ": \u2500\u2500\u2500\u2500\u2500\u2500\u2500\u2500\u2500\u2500\u2500\u2500\u2500\u2500\u2500\u2500\u2500\u2500\u2500\u2500, c\u2081: \u2500\u2500\u2500\u2500\u2500\u2500\u2500\u2500\u2500\u2500\u2500\u2500\u23ac\u23a5\n",
        "    \u239b    2           \u239e      3\u22c5(2\u22c5c\u2082 - 1)\u23aa\u23a5\n",
        "  4\u22c5\u239d3\u22c5c\u2082  - 3\u22c5c\u2082 + 1\u23a0                  \u23ad\u23a6"
       ]
      }
     ],
     "prompt_number": 5
    },
    {
     "cell_type": "code",
     "collapsed": false,
     "input": [
      "bs,cs,As=vrk.substitute([b.T,c,A],sol[0],executexpand=False)\n",
      "bs,cs,As"
     ],
     "language": "python",
     "metadata": {},
     "outputs": [
      {
       "latex": [
        "$$\\begin{pmatrix}\\left[\\begin{smallmatrix}\\frac{3}{4} \\frac{\\left(2 c_{2} -1\\right)^{2}}{3 c_{2}^{2} - 3 c_{2} + 1} & \\frac{1}{12 c_{2}^{2} - 12 c_{2} + 4}\\end{smallmatrix}\\right], & \\left[\\begin{smallmatrix}\\frac{3 c_{2} -2}{6 c_{2} -3}\\\\c_{2}\\end{smallmatrix}\\right], & \\left[\\begin{smallmatrix}\\frac{3 c_{2} -2}{6 c_{2} -3} & 0\\\\2 c_{2} -1 & - c_{2} + 1\\end{smallmatrix}\\right]\\end{pmatrix}$$"
       ],
       "output_type": "pyout",
       "prompt_number": 6,
       "text": [
        "\u239b\u23a1               2                          \u23a4                                 \n",
        "\u239c\u23a2   3\u22c5(2\u22c5c\u2082 - 1)                1          \u23a5  \u23a1  3\u22c5c\u2082 - 2  \u23a4  \u23a1  3\u22c5c\u2082 - 2    \n",
        "\u239c\u23a2\u2500\u2500\u2500\u2500\u2500\u2500\u2500\u2500\u2500\u2500\u2500\u2500\u2500\u2500\u2500\u2500\u2500\u2500\u2500\u2500  \u2500\u2500\u2500\u2500\u2500\u2500\u2500\u2500\u2500\u2500\u2500\u2500\u2500\u2500\u2500\u2500\u2500\u2500\u2500\u2500\u23a5, \u23a2\u2500\u2500\u2500\u2500\u2500\u2500\u2500\u2500\u2500\u2500\u2500\u2500\u23a5, \u23a2\u2500\u2500\u2500\u2500\u2500\u2500\u2500\u2500\u2500\u2500\u2500\u2500  \n",
        "\u239c\u23a2  \u239b    2           \u239e    \u239b    2           \u239e\u23a5  \u23a23\u22c5(2\u22c5c\u2082 - 1)\u23a5  \u23a23\u22c5(2\u22c5c\u2082 - 1)  \n",
        "\u239c\u23a34\u22c5\u239d3\u22c5c\u2082  - 3\u22c5c\u2082 + 1\u23a0  4\u22c5\u239d3\u22c5c\u2082  - 3\u22c5c\u2082 + 1\u23a0\u23a6  \u23a2            \u23a5  \u23a2              \n",
        "\u239d                                              \u23a3     c\u2082     \u23a6  \u23a3  2\u22c5c\u2082 - 1    \n",
        "\n",
        "        \u239e\n",
        "       \u23a4\u239f\n",
        "   0   \u23a5\u239f\n",
        "       \u23a5\u239f\n",
        "       \u23a5\u239f\n",
        "-c\u2082 + 1\u23a6\u23a0"
       ]
      }
     ],
     "prompt_number": 6
    },
    {
     "cell_type": "code",
     "collapsed": false,
     "input": [
      "vrk.substitute([bs,cs,As],{c[1][0]:(3-sqrt(3))/6})"
     ],
     "language": "python",
     "metadata": {},
     "outputs": [
      {
       "latex": [
        "$$\\begin{pmatrix}\\left[\\begin{smallmatrix}\\frac{1}{2} & \\frac{1}{2}\\end{smallmatrix}\\right], & \\left[\\begin{smallmatrix}\\frac{1}{6} \\sqrt{3} + \\frac{1}{2}\\\\- \\frac{1}{6} \\sqrt{3} + \\frac{1}{2}\\end{smallmatrix}\\right], & \\left[\\begin{smallmatrix}\\frac{1}{6} \\sqrt{3} + \\frac{1}{2} & 0\\\\- \\frac{1}{3} \\sqrt{3} & \\frac{1}{6} \\sqrt{3} + \\frac{1}{2}\\end{smallmatrix}\\right]\\end{pmatrix}$$"
       ],
       "output_type": "pyout",
       "prompt_number": 7,
       "text": [
        "\u239b            \u23a1   ___     \u23a4  \u23a1  ___               \u23a4\u239e\n",
        "\u239c            \u23a2 \u2572\u2571 3    1 \u23a5  \u23a2\u2572\u2571 3    1           \u23a5\u239f\n",
        "\u239c[1/2  1/2], \u23a2 \u2500\u2500\u2500\u2500\u2500 + \u2500 \u23a5, \u23a2\u2500\u2500\u2500\u2500\u2500 + \u2500      0    \u23a5\u239f\n",
        "\u239c            \u23a2   6     2 \u23a5  \u23a2  6     2           \u23a5\u239f\n",
        "\u239c            \u23a2           \u23a5  \u23a2                    \u23a5\u239f\n",
        "\u239c            \u23a2    ___    \u23a5  \u23a2    ___      ___    \u23a5\u239f\n",
        "\u239c            \u23a2  \u2572\u2571 3    1\u23a5  \u23a2 -\u2572\u2571 3     \u2572\u2571 3    1\u23a5\u239f\n",
        "\u239c            \u23a2- \u2500\u2500\u2500\u2500\u2500 + \u2500\u23a5  \u23a2 \u2500\u2500\u2500\u2500\u2500\u2500    \u2500\u2500\u2500\u2500\u2500 + \u2500\u23a5\u239f\n",
        "\u239d            \u23a3    6     2\u23a6  \u23a3   3         6     2\u23a6\u23a0"
       ]
      }
     ],
     "prompt_number": 7
    },
    {
     "cell_type": "markdown",
     "metadata": {},
     "source": [
      "Implicit PVRK formulas of order $p=2s$\n",
      "--------------------------------------"
     ]
    },
    {
     "cell_type": "markdown",
     "metadata": {},
     "source": [
      "####Case: $s=1$"
     ]
    },
    {
     "cell_type": "code",
     "collapsed": false,
     "input": [
      "s=1\n",
      "p=2*s\n",
      "b,c,A=vrk.create_arrays('PVRK','implicit',s)\n",
      "Matrix(b.T), Matrix(c), Matrix(A)"
     ],
     "language": "python",
     "metadata": {},
     "outputs": [
      {
       "latex": [
        "$$\\begin{pmatrix}\\left[\\begin{smallmatrix}b_{1}\\end{smallmatrix}\\right], & \\left[\\begin{smallmatrix}c_{1}\\end{smallmatrix}\\right], & \\left[\\begin{smallmatrix}a_{11}\\end{smallmatrix}\\right]\\end{pmatrix}$$"
       ],
       "output_type": "pyout",
       "prompt_number": 8,
       "text": [
        "([b\u2081], [c\u2081], [a\u2081\u2081])"
       ]
      }
     ],
     "prompt_number": 8
    },
    {
     "cell_type": "code",
     "collapsed": false,
     "input": [
      "eqns=vrk.gen_order_conditions(p,[b,c,A])\n",
      "eqns"
     ],
     "language": "python",
     "metadata": {},
     "outputs": [
      {
       "latex": [
        "$$\\begin{bmatrix}b_{1} = 1, & b_{1} c_{1} = \\frac{1}{2}, & c_{1} = a_{11}\\end{bmatrix}$$"
       ],
       "output_type": "pyout",
       "prompt_number": 9,
       "text": [
        "[b\u2081 = 1, b\u2081\u22c5c\u2081 = 1/2, c\u2081 = a\u2081\u2081]"
       ]
      }
     ],
     "prompt_number": 9
    },
    {
     "cell_type": "code",
     "collapsed": false,
     "input": [
      "sol=solve(eqns)\n",
      "sol"
     ],
     "language": "python",
     "metadata": {},
     "outputs": [
      {
       "latex": [
        "$$\\begin{bmatrix}\\begin{Bmatrix}a_{11} : \\frac{1}{2}, & b_{1} : 1, & c_{1} : \\frac{1}{2}\\end{Bmatrix}\\end{bmatrix}$$"
       ],
       "output_type": "pyout",
       "prompt_number": 10,
       "text": [
        "[{a\u2081\u2081: 1/2, b\u2081: 1, c\u2081: 1/2}]"
       ]
      }
     ],
     "prompt_number": 10
    },
    {
     "cell_type": "code",
     "collapsed": false,
     "input": [
      "vrk.substitute([b.T,c,A],sol[0])"
     ],
     "language": "python",
     "metadata": {},
     "outputs": [
      {
       "latex": [
        "$$\\begin{pmatrix}\\left[\\begin{smallmatrix}1\\end{smallmatrix}\\right], & \\left[\\begin{smallmatrix}\\frac{1}{2}\\end{smallmatrix}\\right], & \\left[\\begin{smallmatrix}\\frac{1}{2}\\end{smallmatrix}\\right]\\end{pmatrix}$$"
       ],
       "output_type": "pyout",
       "prompt_number": 11,
       "text": [
        "([1], [1/2], [1/2])"
       ]
      }
     ],
     "prompt_number": 11
    },
    {
     "cell_type": "markdown",
     "metadata": {},
     "source": [
      "####Case: $s=2$"
     ]
    },
    {
     "cell_type": "code",
     "collapsed": false,
     "input": [
      "s=2\n",
      "p=2*s\n",
      "b,c,A=vrk.create_arrays('PVRK','implicit',s)\n",
      "Matrix(b.T), Matrix(c), Matrix(A)"
     ],
     "language": "python",
     "metadata": {},
     "outputs": [
      {
       "latex": [
        "$$\\begin{pmatrix}\\left[\\begin{smallmatrix}b_{1} & b_{2}\\end{smallmatrix}\\right], & \\left[\\begin{smallmatrix}c_{1}\\\\c_{2}\\end{smallmatrix}\\right], & \\left[\\begin{smallmatrix}a_{11} & a_{12}\\\\a_{21} & a_{22}\\end{smallmatrix}\\right]\\end{pmatrix}$$"
       ],
       "output_type": "pyout",
       "prompt_number": 12,
       "text": [
        "\u239b[b\u2081  b\u2082], \u23a1c\u2081\u23a4, \u23a1a\u2081\u2081  a\u2081\u2082\u23a4\u239e\n",
        "\u239c          \u23a2  \u23a5  \u23a2        \u23a5\u239f\n",
        "\u239d          \u23a3c\u2082\u23a6  \u23a3a\u2082\u2081  a\u2082\u2082\u23a6\u23a0"
       ]
      }
     ],
     "prompt_number": 12
    },
    {
     "cell_type": "code",
     "collapsed": false,
     "input": [
      "eqns=vrk.gen_order_conditions(p,[b,c,A])\n",
      "eqns"
     ],
     "language": "python",
     "metadata": {},
     "outputs": [
      {
       "latex": [
        "$$\\begin{bmatrix}b_{1} + b_{2} = 1, & b_{1} c_{1} + b_{2} c_{2} = \\frac{1}{2}, & a_{11} b_{1} c_{1} + a_{12} b_{1} c_{2} + a_{21} b_{2} c_{1} + a_{22} b_{2} c_{2} = \\frac{1}{6}, & b_{1} c_{1}^{2} + b_{2} c_{2}^{2} = \\frac{1}{3}, & a_{11}^{2} b_{1} c_{1} + a_{11} a_{12} b_{1} c_{2} + a_{11} a_{21} b_{2} c_{1} + a_{12} a_{21} b_{1} c_{1} + a_{12} a_{21} b_{2} c_{2} + a_{12} a_{22} b_{1} c_{2} + a_{21} a_{22} b_{2} c_{1} + a_{22}^{2} b_{2} c_{2} = \\frac{1}{24}, & a_{11} b_{1} c_{1}^{2} + a_{12} b_{1} c_{2}^{2} + a_{21} b_{2} c_{1}^{2} + a_{22} b_{2} c_{2}^{2} = \\frac{1}{12}, & a_{11} b_{1} c_{1}^{2} + a_{12} b_{1} c_{1} c_{2} + a_{21} b_{2} c_{1} c_{2} + a_{22} b_{2} c_{2}^{2} = \\frac{1}{8}, & b_{1} c_{1}^{3} + b_{2} c_{2}^{3} = \\frac{1}{4}, & c_{1} = a_{11} + a_{12}, & c_{2} = a_{21} + a_{22}\\end{bmatrix}$$"
       ],
       "output_type": "pyout",
       "prompt_number": 13,
       "text": [
        "\u23a1                                                                             \n",
        "\u23a3b\u2081 + b\u2082 = 1, b\u2081\u22c5c\u2081 + b\u2082\u22c5c\u2082 = 1/2, a\u2081\u2081\u22c5b\u2081\u22c5c\u2081 + a\u2081\u2082\u22c5b\u2081\u22c5c\u2082 + a\u2082\u2081\u22c5b\u2082\u22c5c\u2081 + a\u2082\u2082\u22c5b\u2082\u22c5\n",
        "\n",
        "               2        2           2                                         \n",
        "c\u2082 = 1/6, b\u2081\u22c5c\u2081  + b\u2082\u22c5c\u2082  = 1/3, a\u2081\u2081 \u22c5b\u2081\u22c5c\u2081 + a\u2081\u2081\u22c5a\u2081\u2082\u22c5b\u2081\u22c5c\u2082 + a\u2081\u2081\u22c5a\u2082\u2081\u22c5b\u2082\u22c5c\u2081 + \n",
        "\n",
        "                                                                   2          \n",
        "a\u2081\u2082\u22c5a\u2082\u2081\u22c5b\u2081\u22c5c\u2081 + a\u2081\u2082\u22c5a\u2082\u2081\u22c5b\u2082\u22c5c\u2082 + a\u2081\u2082\u22c5a\u2082\u2082\u22c5b\u2081\u22c5c\u2082 + a\u2082\u2081\u22c5a\u2082\u2082\u22c5b\u2082\u22c5c\u2081 + a\u2082\u2082 \u22c5b\u2082\u22c5c\u2082 = 1\n",
        "\n",
        "              2            2            2            2                  2     \n",
        "/24, a\u2081\u2081\u22c5b\u2081\u22c5c\u2081  + a\u2081\u2082\u22c5b\u2081\u22c5c\u2082  + a\u2082\u2081\u22c5b\u2082\u22c5c\u2081  + a\u2082\u2082\u22c5b\u2082\u22c5c\u2082  = 1/12, a\u2081\u2081\u22c5b\u2081\u22c5c\u2081  + a\u2081\n",
        "\n",
        "                                     2             3        3                 \n",
        "\u2082\u22c5b\u2081\u22c5c\u2081\u22c5c\u2082 + a\u2082\u2081\u22c5b\u2082\u22c5c\u2081\u22c5c\u2082 + a\u2082\u2082\u22c5b\u2082\u22c5c\u2082  = 1/8, b\u2081\u22c5c\u2081  + b\u2082\u22c5c\u2082  = 1/4, c\u2081 = a\u2081\u2081 \n",
        "\n",
        "                     \u23a4\n",
        "+ a\u2081\u2082, c\u2082 = a\u2082\u2081 + a\u2082\u2082\u23a6"
       ]
      }
     ],
     "prompt_number": 13
    },
    {
     "cell_type": "code",
     "collapsed": false,
     "input": [
      "sol=solve(eqns[:7])  # without the row sum conditions\n",
      "sol"
     ],
     "language": "python",
     "metadata": {},
     "outputs": [
      {
       "latex": [
        "$$\\begin{bmatrix}\\begin{Bmatrix}a_{11} : - \\sqrt{3} a_{22} + 2 a_{22} - \\frac{1}{4} + \\frac{1}{4} \\sqrt{3}, & a_{12} : - a_{22} + \\frac{1}{6} \\sqrt{3} + \\frac{1}{2}, & a_{21} : - 2 a_{22} + \\sqrt{3} a_{22} - \\frac{5}{12} \\sqrt{3} + \\frac{3}{4}, & b_{1} : \\frac{1}{2}, & b_{2} : \\frac{1}{2}, & c_{1} : \\frac{1}{6} \\sqrt{3} + \\frac{1}{2}, & c_{2} : - \\frac{1}{6} \\sqrt{3} + \\frac{1}{2}\\end{Bmatrix}, & \\begin{Bmatrix}a_{11} : \\sqrt{3} a_{22} + 2 a_{22} - \\frac{1}{4} \\sqrt{3} - \\frac{1}{4}, & a_{12} : - a_{22} - \\frac{1}{6} \\sqrt{3} + \\frac{1}{2}, & a_{21} : - 2 a_{22} - \\sqrt{3} a_{22} + \\frac{5}{12} \\sqrt{3} + \\frac{3}{4}, & b_{1} : \\frac{1}{2}, & b_{2} : \\frac{1}{2}, & c_{1} : - \\frac{1}{6} \\sqrt{3} + \\frac{1}{2}, & c_{2} : \\frac{1}{6} \\sqrt{3} + \\frac{1}{2}\\end{Bmatrix}\\end{bmatrix}$$"
       ],
       "output_type": "pyout",
       "prompt_number": 14,
       "text": [
        "\u23a1\u23a7                                 ___                ___                     \n",
        "\u23a2\u23aa         ___               1   \u2572\u2571 3               \u2572\u2571 3    1                 \n",
        "\u23a2\u23a8a\u2081\u2081: - \u2572\u2571 3 \u22c5a\u2082\u2082 + 2\u22c5a\u2082\u2082 - \u2500 + \u2500\u2500\u2500\u2500\u2500, a\u2081\u2082: -a\u2082\u2082 + \u2500\u2500\u2500\u2500\u2500 + \u2500, a\u2082\u2081: -2\u22c5a\u2082\u2082 + \u2572\n",
        "\u23a2\u23aa                           4     4                  6     2                 \n",
        "\u23a3\u23a9                                                                            \n",
        "\n",
        "               ___                              ___              ___    \u23ab  \u23a7  \n",
        " ___       5\u22c5\u2572\u2571 3    3                        \u2572\u2571 3    1        \u2572\u2571 3    1\u23aa  \u23aa  \n",
        "\u2571 3 \u22c5a\u2082\u2082 - \u2500\u2500\u2500\u2500\u2500\u2500\u2500 + \u2500, b\u2081: 1/2, b\u2082: 1/2, c\u2081: \u2500\u2500\u2500\u2500\u2500 + \u2500, c\u2082: - \u2500\u2500\u2500\u2500\u2500 + \u2500\u23ac, \u23a8a\u2081\n",
        "              12     4                          6     2          6     2\u23aa  \u23aa  \n",
        "                                                                        \u23ad  \u23a9  \n",
        "\n",
        "                         ___                    ___                           \n",
        "     ___               \u2572\u2571 3    1              \u2572\u2571 3    1                  ___  \n",
        "\u2081: \u2572\u2571 3 \u22c5a\u2082\u2082 + 2\u22c5a\u2082\u2082 - \u2500\u2500\u2500\u2500\u2500 - \u2500, a\u2081\u2082: -a\u2082\u2082 - \u2500\u2500\u2500\u2500\u2500 + \u2500, a\u2082\u2081: -2\u22c5a\u2082\u2082 - \u2572\u2571 3 \u22c5a\n",
        "                         4     4                6     2                       \n",
        "                                                                              \n",
        "\n",
        "         ___                                ___            ___    \u23ab\u23a4\n",
        "     5\u22c5\u2572\u2571 3    3                          \u2572\u2571 3    1      \u2572\u2571 3    1\u23aa\u23a5\n",
        "\u2082\u2082 + \u2500\u2500\u2500\u2500\u2500\u2500\u2500 + \u2500, b\u2081: 1/2, b\u2082: 1/2, c\u2081: - \u2500\u2500\u2500\u2500\u2500 + \u2500, c\u2082: \u2500\u2500\u2500\u2500\u2500 + \u2500\u23ac\u23a5\n",
        "        12     4                            6     2        6     2\u23aa\u23a5\n",
        "                                                                  \u23ad\u23a6"
       ]
      }
     ],
     "prompt_number": 14
    },
    {
     "cell_type": "code",
     "collapsed": false,
     "input": [
      "bs,cs,As=vrk.substitute([b.T,c,A],sol[0],executexpand=False)\n",
      "bs,cs,As"
     ],
     "language": "python",
     "metadata": {},
     "outputs": [
      {
       "latex": [
        "$$\\begin{pmatrix}\\left[\\begin{smallmatrix}\\frac{1}{2} & \\frac{1}{2}\\end{smallmatrix}\\right], & \\left[\\begin{smallmatrix}\\frac{1}{6} \\sqrt{3} + \\frac{1}{2}\\\\- \\frac{1}{6} \\sqrt{3} + \\frac{1}{2}\\end{smallmatrix}\\right], & \\left[\\begin{smallmatrix}- \\sqrt{3} a_{22} + 2 a_{22} - \\frac{1}{4} + \\frac{1}{4} \\sqrt{3} & - a_{22} + \\frac{1}{6} \\sqrt{3} + \\frac{1}{2}\\\\- 2 a_{22} + \\sqrt{3} a_{22} - \\frac{5}{12} \\sqrt{3} + \\frac{3}{4} & a_{22}\\end{smallmatrix}\\right]\\end{pmatrix}$$"
       ],
       "output_type": "pyout",
       "prompt_number": 15,
       "text": [
        "\u239b            \u23a1   ___     \u23a4  \u23a1                            ___            ___   \n",
        "\u239c            \u23a2 \u2572\u2571 3    1 \u23a5  \u23a2    ___               1   \u2572\u2571 3           \u2572\u2571 3    \n",
        "\u239c[1/2  1/2], \u23a2 \u2500\u2500\u2500\u2500\u2500 + \u2500 \u23a5, \u23a2- \u2572\u2571 3 \u22c5a\u2082\u2082 + 2\u22c5a\u2082\u2082 - \u2500 + \u2500\u2500\u2500\u2500\u2500   -a\u2082\u2082 + \u2500\u2500\u2500\u2500\u2500 + \n",
        "\u239c            \u23a2   6     2 \u23a5  \u23a2                      4     4              6     \n",
        "\u239c            \u23a2           \u23a5  \u23a2                                                 \n",
        "\u239c            \u23a2    ___    \u23a5  \u23a2                         ___                     \n",
        "\u239c            \u23a2  \u2572\u2571 3    1\u23a5  \u23a2           ___       5\u22c5\u2572\u2571 3    3                 \n",
        "\u239c            \u23a2- \u2500\u2500\u2500\u2500\u2500 + \u2500\u23a5  \u23a2-2\u22c5a\u2082\u2082 + \u2572\u2571 3 \u22c5a\u2082\u2082 - \u2500\u2500\u2500\u2500\u2500\u2500\u2500 + \u2500        a\u2082\u2082      \n",
        "\u239d            \u23a3    6     2\u23a6  \u23a3                        12     4                 \n",
        "\n",
        " \u23a4\u239e\n",
        "1\u23a5\u239f\n",
        "\u2500\u23a5\u239f\n",
        "2\u23a5\u239f\n",
        " \u23a5\u239f\n",
        " \u23a5\u239f\n",
        " \u23a5\u239f\n",
        " \u23a5\u239f\n",
        " \u23a6\u23a0"
       ]
      }
     ],
     "prompt_number": 15
    },
    {
     "cell_type": "code",
     "collapsed": false,
     "input": [
      "bs1,cs1,As1=vrk.substitute([b.T,c,A],sol[1])\n",
      "bs1,cs1,As1"
     ],
     "language": "python",
     "metadata": {},
     "outputs": [
      {
       "latex": [
        "$$\\begin{pmatrix}\\left[\\begin{smallmatrix}\\frac{1}{2} & \\frac{1}{2}\\end{smallmatrix}\\right], & \\left[\\begin{smallmatrix}- \\frac{1}{6} \\sqrt{3} + \\frac{1}{2}\\\\\\frac{1}{6} \\sqrt{3} + \\frac{1}{2}\\end{smallmatrix}\\right], & \\left[\\begin{smallmatrix}\\sqrt{3} a_{22} + 2 a_{22} - \\frac{1}{4} \\sqrt{3} - \\frac{1}{4} & - a_{22} - \\frac{1}{6} \\sqrt{3} + \\frac{1}{2}\\\\- 2 a_{22} - \\sqrt{3} a_{22} + \\frac{5}{12} \\sqrt{3} + \\frac{3}{4} & a_{22}\\end{smallmatrix}\\right]\\end{pmatrix}$$"
       ],
       "output_type": "pyout",
       "prompt_number": 16,
       "text": [
        "\u239b            \u23a1    ___    \u23a4  \u23a1                       ___                 ___   \n",
        "\u239c            \u23a2  \u2572\u2571 3    1\u23a5  \u23a2   ___               \u2572\u2571 3    1           \u2572\u2571 3    \n",
        "\u239c[1/2  1/2], \u23a2- \u2500\u2500\u2500\u2500\u2500 + \u2500\u23a5, \u23a2 \u2572\u2571 3 \u22c5a\u2082\u2082 + 2\u22c5a\u2082\u2082 - \u2500\u2500\u2500\u2500\u2500 - \u2500    -a\u2082\u2082 - \u2500\u2500\u2500\u2500\u2500 + \n",
        "\u239c            \u23a2    6     2\u23a5  \u23a2                       4     4             6     \n",
        "\u239c            \u23a2           \u23a5  \u23a2                                                 \n",
        "\u239c            \u23a2   ___     \u23a5  \u23a2                         ___                     \n",
        "\u239c            \u23a2 \u2572\u2571 3    1 \u23a5  \u23a2           ___       5\u22c5\u2572\u2571 3    3                 \n",
        "\u239c            \u23a2 \u2500\u2500\u2500\u2500\u2500 + \u2500 \u23a5  \u23a2-2\u22c5a\u2082\u2082 - \u2572\u2571 3 \u22c5a\u2082\u2082 + \u2500\u2500\u2500\u2500\u2500\u2500\u2500 + \u2500        a\u2082\u2082      \n",
        "\u239d            \u23a3   6     2 \u23a6  \u23a3                        12     4                 \n",
        "\n",
        " \u23a4\u239e\n",
        "1\u23a5\u239f\n",
        "\u2500\u23a5\u239f\n",
        "2\u23a5\u239f\n",
        " \u23a5\u239f\n",
        " \u23a5\u239f\n",
        " \u23a5\u239f\n",
        " \u23a5\u239f\n",
        " \u23a6\u23a0"
       ]
      }
     ],
     "prompt_number": 16
    },
    {
     "cell_type": "code",
     "collapsed": false,
     "input": [
      "vrk.substitute([bs,cs,As],{A[1][1]:Rational(1,4)})"
     ],
     "language": "python",
     "metadata": {},
     "outputs": [
      {
       "latex": [
        "$$\\begin{pmatrix}\\left[\\begin{smallmatrix}\\frac{1}{2} & \\frac{1}{2}\\end{smallmatrix}\\right], & \\left[\\begin{smallmatrix}\\frac{1}{6} \\sqrt{3} + \\frac{1}{2}\\\\- \\frac{1}{6} \\sqrt{3} + \\frac{1}{2}\\end{smallmatrix}\\right], & \\left[\\begin{smallmatrix}\\frac{1}{4} & \\frac{1}{4} + \\frac{1}{6} \\sqrt{3}\\\\- \\frac{1}{6} \\sqrt{3} + \\frac{1}{4} & \\frac{1}{4}\\end{smallmatrix}\\right]\\end{pmatrix}$$"
       ],
       "output_type": "pyout",
       "prompt_number": 17,
       "text": [
        "\u239b            \u23a1   ___     \u23a4  \u23a1                   ___\u23a4\u239e\n",
        "\u239c            \u23a2 \u2572\u2571 3    1 \u23a5  \u23a2             1   \u2572\u2571 3 \u23a5\u239f\n",
        "\u239c[1/2  1/2], \u23a2 \u2500\u2500\u2500\u2500\u2500 + \u2500 \u23a5, \u23a2    1/4      \u2500 + \u2500\u2500\u2500\u2500\u2500\u23a5\u239f\n",
        "\u239c            \u23a2   6     2 \u23a5  \u23a2             4     6  \u23a5\u239f\n",
        "\u239c            \u23a2           \u23a5  \u23a2                      \u23a5\u239f\n",
        "\u239c            \u23a2    ___    \u23a5  \u23a2    ___               \u23a5\u239f\n",
        "\u239c            \u23a2  \u2572\u2571 3    1\u23a5  \u23a2  \u2572\u2571 3    1           \u23a5\u239f\n",
        "\u239c            \u23a2- \u2500\u2500\u2500\u2500\u2500 + \u2500\u23a5  \u23a2- \u2500\u2500\u2500\u2500\u2500 + \u2500     1/4   \u23a5\u239f\n",
        "\u239d            \u23a3    6     2\u23a6  \u23a3    6     4           \u23a6\u23a0"
       ]
      }
     ],
     "prompt_number": 17
    },
    {
     "cell_type": "code",
     "collapsed": false,
     "input": [
      "vrk.substitute([bs1,cs1,As1],{A[1][1]:Rational(1,4)}) #Example 4.1.6"
     ],
     "language": "python",
     "metadata": {},
     "outputs": [
      {
       "latex": [
        "$$\\begin{pmatrix}\\left[\\begin{smallmatrix}\\frac{1}{2} & \\frac{1}{2}\\end{smallmatrix}\\right], & \\left[\\begin{smallmatrix}- \\frac{1}{6} \\sqrt{3} + \\frac{1}{2}\\\\\\frac{1}{6} \\sqrt{3} + \\frac{1}{2}\\end{smallmatrix}\\right], & \\left[\\begin{smallmatrix}\\frac{1}{4} & - \\frac{1}{6} \\sqrt{3} + \\frac{1}{4}\\\\\\frac{1}{4} + \\frac{1}{6} \\sqrt{3} & \\frac{1}{4}\\end{smallmatrix}\\right]\\end{pmatrix}$$"
       ],
       "output_type": "pyout",
       "prompt_number": 18,
       "text": [
        "\u239b            \u23a1    ___    \u23a4  \u23a1               ___    \u23a4\u239e\n",
        "\u239c            \u23a2  \u2572\u2571 3    1\u23a5  \u23a2             \u2572\u2571 3    1\u23a5\u239f\n",
        "\u239c[1/2  1/2], \u23a2- \u2500\u2500\u2500\u2500\u2500 + \u2500\u23a5, \u23a2   1/4     - \u2500\u2500\u2500\u2500\u2500 + \u2500\u23a5\u239f\n",
        "\u239c            \u23a2    6     2\u23a5  \u23a2               6     4\u23a5\u239f\n",
        "\u239c            \u23a2           \u23a5  \u23a2                      \u23a5\u239f\n",
        "\u239c            \u23a2   ___     \u23a5  \u23a2      ___             \u23a5\u239f\n",
        "\u239c            \u23a2 \u2572\u2571 3    1 \u23a5  \u23a21   \u2572\u2571 3              \u23a5\u239f\n",
        "\u239c            \u23a2 \u2500\u2500\u2500\u2500\u2500 + \u2500 \u23a5  \u23a2\u2500 + \u2500\u2500\u2500\u2500\u2500      1/4    \u23a5\u239f\n",
        "\u239d            \u23a3   6     2 \u23a6  \u23a34     6               \u23a6\u23a0"
       ]
      }
     ],
     "prompt_number": 18
    },
    {
     "cell_type": "markdown",
     "metadata": {},
     "source": [
      "Explicit PVRK formulas of order $p=s=2$\n",
      "----------------------------------------"
     ]
    },
    {
     "cell_type": "code",
     "collapsed": false,
     "input": [
      "s=p=2\n",
      "b,c,A=vrk.create_arrays('PVRK','explicit',s)\n",
      "Matrix(b.T), Matrix(c), Matrix(A)"
     ],
     "language": "python",
     "metadata": {},
     "outputs": [
      {
       "latex": [
        "$$\\begin{pmatrix}\\left[\\begin{smallmatrix}b_{1} & b_{2}\\end{smallmatrix}\\right], & \\left[\\begin{smallmatrix}c_{1}\\\\c_{2}\\end{smallmatrix}\\right], & \\left[\\begin{smallmatrix}0 & 0\\\\a_{21} & 0\\end{smallmatrix}\\right]\\end{pmatrix}$$"
       ],
       "output_type": "pyout",
       "prompt_number": 19,
       "text": [
        "\u239b[b\u2081  b\u2082], \u23a1c\u2081\u23a4, \u23a1 0   0\u23a4\u239e\n",
        "\u239c          \u23a2  \u23a5  \u23a2      \u23a5\u239f\n",
        "\u239d          \u23a3c\u2082\u23a6  \u23a3a\u2082\u2081  0\u23a6\u23a0"
       ]
      }
     ],
     "prompt_number": 19
    },
    {
     "cell_type": "code",
     "collapsed": false,
     "input": [
      "eqns=vrk.gen_order_conditions(p,[b,c,A])\n",
      "eqns"
     ],
     "language": "python",
     "metadata": {},
     "outputs": [
      {
       "latex": [
        "$$\\begin{bmatrix}b_{1} + b_{2} = 1, & b_{1} c_{1} + b_{2} c_{2} = \\frac{1}{2}, & c_{1} = 0, & c_{2} = a_{21}\\end{bmatrix}$$"
       ],
       "output_type": "pyout",
       "prompt_number": 20,
       "text": [
        "[b\u2081 + b\u2082 = 1, b\u2081\u22c5c\u2081 + b\u2082\u22c5c\u2082 = 1/2, c\u2081 = 0, c\u2082 = a\u2082\u2081]"
       ]
      }
     ],
     "prompt_number": 20
    },
    {
     "cell_type": "code",
     "collapsed": false,
     "input": [
      "sol=solve(eqns)\n",
      "sol"
     ],
     "language": "python",
     "metadata": {},
     "outputs": [
      {
       "latex": [
        "$$\\begin{bmatrix}\\begin{Bmatrix}a_{21} : c_{2}, & b_{1} : \\frac{2 c_{2} -1}{2 c_{2}}, & b_{2} : \\frac{1}{2 c_{2}}, & c_{1} : 0\\end{Bmatrix}\\end{bmatrix}$$"
       ],
       "output_type": "pyout",
       "prompt_number": 21,
       "text": [
        "\u23a1\u23a7             2\u22c5c\u2082 - 1       1         \u23ab\u23a4\n",
        "\u23a2\u23a8a\u2082\u2081: c\u2082, b\u2081: \u2500\u2500\u2500\u2500\u2500\u2500\u2500\u2500, b\u2082: \u2500\u2500\u2500\u2500, c\u2081: 0\u23ac\u23a5\n",
        "\u23a3\u23a9               2\u22c5c\u2082        2\u22c5c\u2082       \u23ad\u23a6"
       ]
      }
     ],
     "prompt_number": 21
    },
    {
     "cell_type": "code",
     "collapsed": false,
     "input": [
      "bs,cs,As=vrk.substitute([b.T,c,A],sol[0],executexpand=False)\n",
      "bs,cs,As"
     ],
     "language": "python",
     "metadata": {},
     "outputs": [
      {
       "latex": [
        "$$\\begin{pmatrix}\\left[\\begin{smallmatrix}\\frac{2 c_{2} -1}{2 c_{2}} & \\frac{1}{2 c_{2}}\\end{smallmatrix}\\right], & \\left[\\begin{smallmatrix}0\\\\c_{2}\\end{smallmatrix}\\right], & \\left[\\begin{smallmatrix}0 & 0\\\\c_{2} & 0\\end{smallmatrix}\\right]\\end{pmatrix}$$"
       ],
       "output_type": "pyout",
       "prompt_number": 22,
       "text": [
        "\u239b\u23a12\u22c5c\u2082 - 1   1  \u23a4               \u239e\n",
        "\u239c\u23a2\u2500\u2500\u2500\u2500\u2500\u2500\u2500\u2500  \u2500\u2500\u2500\u2500\u23a5, \u23a10 \u23a4, \u23a10   0\u23a4\u239f\n",
        "\u239c\u23a3  2\u22c5c\u2082    2\u22c5c\u2082\u23a6  \u23a2  \u23a5  \u23a2     \u23a5\u239f\n",
        "\u239d                  \u23a3c\u2082\u23a6  \u23a3c\u2082  0\u23a6\u23a0"
       ]
      }
     ],
     "prompt_number": 22
    },
    {
     "cell_type": "code",
     "collapsed": false,
     "input": [
      "vrk.substitute([bs,cs,As],{c[1][0]:1}), vrk.substitute([bs,cs,As],{c[1][0]:Rational(1,2)}), vrk.substitute([bs,cs,As],{c[1][0]:Rational(2,3)})\n"
     ],
     "language": "python",
     "metadata": {},
     "outputs": [
      {
       "latex": [
        "$$\\begin{pmatrix}\\begin{pmatrix}\\left[\\begin{smallmatrix}\\frac{1}{2} & \\frac{1}{2}\\end{smallmatrix}\\right], & \\left[\\begin{smallmatrix}0\\\\1\\end{smallmatrix}\\right], & \\left[\\begin{smallmatrix}0 & 0\\\\1 & 0\\end{smallmatrix}\\right]\\end{pmatrix}, & \\begin{pmatrix}\\left[\\begin{smallmatrix}0 & 1\\end{smallmatrix}\\right], & \\left[\\begin{smallmatrix}0\\\\\\frac{1}{2}\\end{smallmatrix}\\right], & \\left[\\begin{smallmatrix}0 & 0\\\\\\frac{1}{2} & 0\\end{smallmatrix}\\right]\\end{pmatrix}, & \\begin{pmatrix}\\left[\\begin{smallmatrix}\\frac{1}{4} & \\frac{3}{4}\\end{smallmatrix}\\right], & \\left[\\begin{smallmatrix}0\\\\\\frac{2}{3}\\end{smallmatrix}\\right], & \\left[\\begin{smallmatrix}0 & 0\\\\\\frac{2}{3} & 0\\end{smallmatrix}\\right]\\end{pmatrix}\\end{pmatrix}$$"
       ],
       "output_type": "pyout",
       "prompt_number": 23,
       "text": [
        "\u239b\u239b[1/2  1/2], \u23a10\u23a4, \u23a10  0\u23a4\u239e, \u239b[0  1], \u23a1 0 \u23a4, \u23a1 0   0\u23a4\u239e, \u239b[1/4  3/4], \u23a1 0 \u23a4, \u23a1 0\n",
        "\u239c\u239c            \u23a2 \u23a5  \u23a2    \u23a5\u239f  \u239c        \u23a2   \u23a5  \u23a2      \u23a5\u239f  \u239c            \u23a2   \u23a5  \u23a2  \n",
        "\u239d\u239d            \u23a31\u23a6  \u23a31  0\u23a6\u23a0  \u239d        \u23a31/2\u23a6  \u23a31/2  0\u23a6\u23a0  \u239d            \u23a32/3\u23a6  \u23a32/\n",
        "\n",
        "   0\u23a4\u239e\u239e\n",
        "    \u23a5\u239f\u239f\n",
        "3  0\u23a6\u23a0\u23a0"
       ]
      }
     ],
     "prompt_number": 23
    },
    {
     "cell_type": "markdown",
     "metadata": {},
     "source": [
      "Explicit PVRK formulas of order $p=s=3$\n",
      "----------------------------------------"
     ]
    },
    {
     "cell_type": "code",
     "collapsed": false,
     "input": [
      "s=p=3\n",
      "b,c,A=vrk.create_arrays('PVRK','explicit',s)\n",
      "Matrix(b.T), Matrix(c), Matrix(A)"
     ],
     "language": "python",
     "metadata": {},
     "outputs": [
      {
       "latex": [
        "$$\\begin{pmatrix}\\left[\\begin{smallmatrix}b_{1} & b_{2} & b_{3}\\end{smallmatrix}\\right], & \\left[\\begin{smallmatrix}c_{1}\\\\c_{2}\\\\c_{3}\\end{smallmatrix}\\right], & \\left[\\begin{smallmatrix}0 & 0 & 0\\\\a_{21} & 0 & 0\\\\a_{31} & a_{32} & 0\\end{smallmatrix}\\right]\\end{pmatrix}$$"
       ],
       "output_type": "pyout",
       "prompt_number": 24,
       "text": [
        "\u239b[b\u2081  b\u2082  b\u2083], \u23a1c\u2081\u23a4, \u23a1 0    0   0\u23a4\u239e\n",
        "\u239c              \u23a2  \u23a5  \u23a2           \u23a5\u239f\n",
        "\u239c              \u23a2c\u2082\u23a5  \u23a2a\u2082\u2081   0   0\u23a5\u239f\n",
        "\u239c              \u23a2  \u23a5  \u23a2           \u23a5\u239f\n",
        "\u239d              \u23a3c\u2083\u23a6  \u23a3a\u2083\u2081  a\u2083\u2082  0\u23a6\u23a0"
       ]
      }
     ],
     "prompt_number": 24
    },
    {
     "cell_type": "code",
     "collapsed": false,
     "input": [
      "eqns=vrk.gen_order_conditions(p,[b,c,A])\n",
      "eqns"
     ],
     "language": "python",
     "metadata": {},
     "outputs": [
      {
       "latex": [
        "$$\\begin{bmatrix}b_{1} + b_{2} + b_{3} = 1, & b_{1} c_{1} + b_{2} c_{2} + b_{3} c_{3} = \\frac{1}{2}, & a_{21} b_{2} c_{1} + a_{31} b_{3} c_{1} + a_{32} b_{3} c_{2} = \\frac{1}{6}, & b_{1} c_{1}^{2} + b_{2} c_{2}^{2} + b_{3} c_{3}^{2} = \\frac{1}{3}, & c_{1} = 0, & c_{2} = a_{21}, & c_{3} = a_{31} + a_{32}\\end{bmatrix}$$"
       ],
       "output_type": "pyout",
       "prompt_number": 25,
       "text": [
        "\u23a1                                                                             \n",
        "\u23a3b\u2081 + b\u2082 + b\u2083 = 1, b\u2081\u22c5c\u2081 + b\u2082\u22c5c\u2082 + b\u2083\u22c5c\u2083 = 1/2, a\u2082\u2081\u22c5b\u2082\u22c5c\u2081 + a\u2083\u2081\u22c5b\u2083\u22c5c\u2081 + a\u2083\u2082\u22c5b\u2083\n",
        "\n",
        "                2        2        2                                        \u23a4\n",
        "\u22c5c\u2082 = 1/6, b\u2081\u22c5c\u2081  + b\u2082\u22c5c\u2082  + b\u2083\u22c5c\u2083  = 1/3, c\u2081 = 0, c\u2082 = a\u2082\u2081, c\u2083 = a\u2083\u2081 + a\u2083\u2082\u23a6"
       ]
      }
     ],
     "prompt_number": 25
    },
    {
     "cell_type": "code",
     "collapsed": false,
     "input": [
      "sol=solve(eqns, dict=True)\n",
      "sol"
     ],
     "language": "python",
     "metadata": {},
     "outputs": [
      {
       "latex": [
        "$$\\begin{bmatrix}\\begin{Bmatrix}a_{21} : c_{2}, & a_{31} : \\frac{c_{3} \\left(3 c_{2}^{2} - 3 c_{2} + c_{3}\\right)}{c_{2} \\left(3 c_{2} -2\\right)}, & a_{32} : \\frac{c_{3} \\left(c_{2} - c_{3}\\right)}{c_{2} \\left(3 c_{2} -2\\right)}, & b_{1} : \\frac{c_{2} c_{3} - \\frac{1}{2} c_{2} - \\frac{1}{2} c_{3} + \\frac{1}{3}}{c_{2} c_{3}}, & b_{2} : \\frac{- 3 c_{3} + 2}{6 c_{2} \\left(c_{2} - c_{3}\\right)}, & b_{3} : \\frac{3 c_{2} -2}{6 c_{3} \\left(c_{2} - c_{3}\\right)}, & c_{1} : 0\\end{Bmatrix}\\end{bmatrix}$$"
       ],
       "output_type": "pyout",
       "prompt_number": 26,
       "text": [
        "\u23a1\u23a7                                                                      c\u2082   c\n",
        "\u23a2\u23aa                 \u239b    2            \u239e                          c\u2082\u22c5c\u2083 - \u2500\u2500 - \u2500\n",
        "\u23a2\u23a8              c\u2083\u22c5\u239d3\u22c5c\u2082  - 3\u22c5c\u2082 + c\u2083\u23a0        c\u2083\u22c5(c\u2082 - c\u2083)              2    2\n",
        "\u23a2\u23aaa\u2082\u2081: c\u2082, a\u2083\u2081: \u2500\u2500\u2500\u2500\u2500\u2500\u2500\u2500\u2500\u2500\u2500\u2500\u2500\u2500\u2500\u2500\u2500\u2500\u2500\u2500\u2500\u2500, a\u2083\u2082: \u2500\u2500\u2500\u2500\u2500\u2500\u2500\u2500\u2500\u2500\u2500\u2500\u2500, b\u2081: \u2500\u2500\u2500\u2500\u2500\u2500\u2500\u2500\u2500\u2500\u2500\u2500\u2500\u2500\n",
        "\u23a3\u23a9                  c\u2082\u22c5(3\u22c5c\u2082 - 2)            c\u2082\u22c5(3\u22c5c\u2082 - 2)             c\u2082\u22c5c\u2083  \n",
        "\n",
        "\u2083   1                                               \u23ab\u23a4\n",
        "\u2500 + \u2500                                               \u23aa\u23a5\n",
        "    3        -3\u22c5c\u2083 + 2            3\u22c5c\u2082 - 2          \u23ac\u23a5\n",
        "\u2500\u2500\u2500\u2500\u2500, b\u2082: \u2500\u2500\u2500\u2500\u2500\u2500\u2500\u2500\u2500\u2500\u2500\u2500\u2500\u2500, b\u2083: \u2500\u2500\u2500\u2500\u2500\u2500\u2500\u2500\u2500\u2500\u2500\u2500\u2500\u2500, c\u2081: 0\u23aa\u23a5\n",
        "           6\u22c5c\u2082\u22c5(c\u2082 - c\u2083)      6\u22c5c\u2083\u22c5(c\u2082 - c\u2083)       \u23ad\u23a6"
       ]
      }
     ],
     "prompt_number": 26
    },
    {
     "cell_type": "markdown",
     "metadata": {},
     "source": [
      "####Case I: $c_2\\neq 0 \\neq c_3 \\neq c_2 \\neq \\frac{2}{3}$"
     ]
    },
    {
     "cell_type": "code",
     "collapsed": false,
     "input": [
      "bs,cs,As=vrk.substitute([b.T,c,A],sol[0],executexpand=False)\n",
      "bs,cs,As"
     ],
     "language": "python",
     "metadata": {},
     "outputs": [
      {
       "latex": [
        "$$\\begin{pmatrix}\\left[\\begin{smallmatrix}\\frac{c_{2} c_{3} - \\frac{1}{2} c_{2} - \\frac{1}{2} c_{3} + \\frac{1}{3}}{c_{2} c_{3}} & \\frac{- 3 c_{3} + 2}{6 c_{2} \\left(c_{2} - c_{3}\\right)} & \\frac{3 c_{2} -2}{6 c_{3} \\left(c_{2} - c_{3}\\right)}\\end{smallmatrix}\\right], & \\left[\\begin{smallmatrix}0\\\\c_{2}\\\\c_{3}\\end{smallmatrix}\\right], & \\left[\\begin{smallmatrix}0 & 0 & 0\\\\c_{2} & 0 & 0\\\\\\frac{c_{3} \\left(3 c_{2}^{2} - 3 c_{2} + c_{3}\\right)}{c_{2} \\left(3 c_{2} -2\\right)} & \\frac{c_{3} \\left(c_{2} - c_{3}\\right)}{c_{2} \\left(3 c_{2} -2\\right)} & 0\\end{smallmatrix}\\right]\\end{pmatrix}$$"
       ],
       "output_type": "pyout",
       "prompt_number": 27,
       "text": [
        "\u239b\u23a1        c\u2082   c\u2083   1                                \u23a4                        \n",
        "\u239c\u23a2c\u2082\u22c5c\u2083 - \u2500\u2500 - \u2500\u2500 + \u2500                                \u23a5                        \n",
        "\u239c\u23a2        2    2    3    -3\u22c5c\u2083 + 2        3\u22c5c\u2082 - 2   \u23a5                        \n",
        "\u239c\u23a2\u2500\u2500\u2500\u2500\u2500\u2500\u2500\u2500\u2500\u2500\u2500\u2500\u2500\u2500\u2500\u2500\u2500\u2500\u2500  \u2500\u2500\u2500\u2500\u2500\u2500\u2500\u2500\u2500\u2500\u2500\u2500\u2500\u2500  \u2500\u2500\u2500\u2500\u2500\u2500\u2500\u2500\u2500\u2500\u2500\u2500\u2500\u2500\u23a5, \u23a10 \u23a4, \u23a1          0    \n",
        "\u239c\u23a3       c\u2082\u22c5c\u2083         6\u22c5c\u2082\u22c5(c\u2082 - c\u2083)  6\u22c5c\u2083\u22c5(c\u2082 - c\u2083)\u23a6  \u23a2  \u23a5  \u23a2               \n",
        "\u239c                                                       \u23a2c\u2082\u23a5  \u23a2          c\u2082   \n",
        "\u239c                                                       \u23a2  \u23a5  \u23a2               \n",
        "\u239c                                                       \u23a3c\u2083\u23a6  \u23a2   \u239b    2      \n",
        "\u239c                                                             \u23a2c\u2083\u22c5\u239d3\u22c5c\u2082  - 3\u22c5c\n",
        "\u239c                                                             \u23a2\u2500\u2500\u2500\u2500\u2500\u2500\u2500\u2500\u2500\u2500\u2500\u2500\u2500\u2500\u2500\n",
        "\u239d                                                             \u23a3    c\u2082\u22c5(3\u22c5c\u2082 - \n",
        "\n",
        "                          \u239e\n",
        "                          \u239f\n",
        "                          \u239f\n",
        "               0        0\u23a4\u239f\n",
        "                         \u23a5\u239f\n",
        "               0        0\u23a5\u239f\n",
        "                         \u23a5\u239f\n",
        "      \u239e                  \u23a5\u239f\n",
        "\u2082 + c\u2083\u23a0   c\u2083\u22c5(c\u2082 - c\u2083)   \u23a5\u239f\n",
        "\u2500\u2500\u2500\u2500\u2500\u2500\u2500  \u2500\u2500\u2500\u2500\u2500\u2500\u2500\u2500\u2500\u2500\u2500\u2500\u2500  0\u23a5\u239f\n",
        "2)       c\u2082\u22c5(3\u22c5c\u2082 - 2)   \u23a6\u23a0"
       ]
      }
     ],
     "prompt_number": 27
    },
    {
     "cell_type": "code",
     "collapsed": false,
     "input": [
      "vrk.substitute([bs,cs,As],{c[1][0]:-1,c[2][0]:1})"
     ],
     "language": "python",
     "metadata": {},
     "outputs": [
      {
       "latex": [
        "$$\\begin{pmatrix}\\left[\\begin{smallmatrix}\\frac{2}{3} & - \\frac{1}{12} & \\frac{5}{12}\\end{smallmatrix}\\right], & \\left[\\begin{smallmatrix}0\\\\-1\\\\1\\end{smallmatrix}\\right], & \\left[\\begin{smallmatrix}0 & 0 & 0\\\\-1 & 0 & 0\\\\\\frac{7}{5} & - \\frac{2}{5} & 0\\end{smallmatrix}\\right]\\end{pmatrix}$$"
       ],
       "output_type": "pyout",
       "prompt_number": 28,
       "text": [
        "\u239b[2/3  -1/12  5/12], \u23a10 \u23a4, \u23a1 0    0    0\u23a4\u239e\n",
        "\u239c                    \u23a2  \u23a5  \u23a2            \u23a5\u239f\n",
        "\u239c                    \u23a2-1\u23a5  \u23a2-1    0    0\u23a5\u239f\n",
        "\u239c                    \u23a2  \u23a5  \u23a2            \u23a5\u239f\n",
        "\u239d                    \u23a31 \u23a6  \u23a37/5  -2/5  0\u23a6\u23a0"
       ]
      }
     ],
     "prompt_number": 28
    },
    {
     "cell_type": "markdown",
     "metadata": {},
     "source": [
      "####Case II and III: $c_2=c_3=\\frac{2}{3}, b_3\\neq 0$ and $c_2=\\frac{2}{3}, c_3=0, b_3\\neq 0$"
     ]
    },
    {
     "cell_type": "code",
     "collapsed": false,
     "input": [
      "sol2=solve(eqns,exclude=[b[2][0],c[1][0]] ,dict=True)\n",
      "sol2"
     ],
     "language": "python",
     "metadata": {},
     "outputs": [
      {
       "latex": [
        "$$\\begin{bmatrix}\\begin{Bmatrix}a_{21} : c_{2}, & a_{31} : \\frac{3 b_{3} c_{2}^{2} - c_{2} \\sqrt{9 b_{3}^{2} c_{2}^{2} - 18 b_{3} c_{2} + 12 b_{3}} -1}{6 b_{3} c_{2}}, & a_{32} : \\frac{1}{6 b_{3} c_{2}}, & b_{1} : \\frac{- 3 b_{3} c_{2} + 6 c_{2} - \\sqrt{3} \\sqrt{b_{3} \\left(3 b_{3} c_{2}^{2} - 6 c_{2} + 4\\right)} -3}{6 c_{2}}, & b_{2} : \\frac{- 3 b_{3} c_{2} + \\sqrt{3} \\sqrt{b_{3} \\left(3 b_{3} c_{2}^{2} - 6 c_{2} + 4\\right)} + 3}{6 c_{2}}, & c_{1} : 0, & c_{3} : \\frac{1}{2} c_{2} - \\frac{\\sqrt{3} \\sqrt{b_{3} \\left(3 b_{3} c_{2}^{2} - 6 c_{2} + 4\\right)}}{6 b_{3}}\\end{Bmatrix}, & \\begin{Bmatrix}a_{21} : c_{2}, & a_{31} : \\frac{3 b_{3} c_{2}^{2} + c_{2} \\sqrt{9 b_{3}^{2} c_{2}^{2} - 18 b_{3} c_{2} + 12 b_{3}} -1}{6 b_{3} c_{2}}, & a_{32} : \\frac{1}{6 b_{3} c_{2}}, & b_{1} : \\frac{- 3 b_{3} c_{2} + 6 c_{2} + \\sqrt{3} \\sqrt{b_{3} \\left(3 b_{3} c_{2}^{2} - 6 c_{2} + 4\\right)} -3}{6 c_{2}}, & b_{2} : \\frac{- 3 b_{3} c_{2} - \\sqrt{3} \\sqrt{b_{3} \\left(3 b_{3} c_{2}^{2} - 6 c_{2} + 4\\right)} + 3}{6 c_{2}}, & c_{1} : 0, & c_{3} : \\frac{1}{2} c_{2} + \\frac{\\sqrt{3} \\sqrt{b_{3} \\left(3 b_{3} c_{2}^{2} - 6 c_{2} + 4\\right)}}{6 b_{3}}\\end{Bmatrix}\\end{bmatrix}$$"
       ],
       "output_type": "pyout",
       "prompt_number": 29,
       "text": [
        "\u23a1\u23a7                               ______________________________               \n",
        "\u23a2\u23aa                     2        \u2571     2   2                                   \n",
        "\u23a2\u23a8              3\u22c5b\u2083\u22c5c\u2082  - c\u2082\u22c5\u2572\u2571  9\u22c5b\u2083 \u22c5c\u2082  - 18\u22c5b\u2083\u22c5c\u2082 + 12\u22c5b\u2083  - 1          1\n",
        "\u23a2\u23aaa\u2082\u2081: c\u2082, a\u2083\u2081: \u2500\u2500\u2500\u2500\u2500\u2500\u2500\u2500\u2500\u2500\u2500\u2500\u2500\u2500\u2500\u2500\u2500\u2500\u2500\u2500\u2500\u2500\u2500\u2500\u2500\u2500\u2500\u2500\u2500\u2500\u2500\u2500\u2500\u2500\u2500\u2500\u2500\u2500\u2500\u2500\u2500\u2500\u2500\u2500\u2500\u2500\u2500\u2500\u2500\u2500\u2500, a\u2083\u2082: \u2500\u2500\u2500\u2500\n",
        "\u23a3\u23a9                                    6\u22c5b\u2083\u22c5c\u2082                             6\u22c5b\u2083\n",
        "\n",
        "                                    __________________________                \n",
        "                             ___   \u2571    \u239b       2           \u239e                 \n",
        "         -3\u22c5b\u2083\u22c5c\u2082 + 6\u22c5c\u2082 - \u2572\u2571 3 \u22c5\u2572\u2571  b\u2083\u22c5\u239d3\u22c5b\u2083\u22c5c\u2082  - 6\u22c5c\u2082 + 4\u23a0  - 3      -3\u22c5b\u2083\u22c5\n",
        "\u2500\u2500\u2500, b\u2081: \u2500\u2500\u2500\u2500\u2500\u2500\u2500\u2500\u2500\u2500\u2500\u2500\u2500\u2500\u2500\u2500\u2500\u2500\u2500\u2500\u2500\u2500\u2500\u2500\u2500\u2500\u2500\u2500\u2500\u2500\u2500\u2500\u2500\u2500\u2500\u2500\u2500\u2500\u2500\u2500\u2500\u2500\u2500\u2500\u2500\u2500\u2500\u2500\u2500\u2500\u2500\u2500\u2500\u2500\u2500\u2500\u2500, b\u2082: \u2500\u2500\u2500\u2500\u2500\u2500\n",
        "\u22c5c\u2082                                 6\u22c5c\u2082                                      \n",
        "\n",
        "              __________________________                               _______\n",
        "       ___   \u2571    \u239b       2           \u239e                         ___   \u2571    \u239b  \n",
        "c\u2082 + \u2572\u2571 3 \u22c5\u2572\u2571  b\u2083\u22c5\u239d3\u22c5b\u2083\u22c5c\u2082  - 6\u22c5c\u2082 + 4\u23a0  + 3             c\u2082   \u2572\u2571 3 \u22c5\u2572\u2571  b\u2083\u22c5\u239d3\u22c5\n",
        "\u2500\u2500\u2500\u2500\u2500\u2500\u2500\u2500\u2500\u2500\u2500\u2500\u2500\u2500\u2500\u2500\u2500\u2500\u2500\u2500\u2500\u2500\u2500\u2500\u2500\u2500\u2500\u2500\u2500\u2500\u2500\u2500\u2500\u2500\u2500\u2500\u2500\u2500\u2500\u2500\u2500\u2500\u2500\u2500, c\u2081: 0, c\u2083: \u2500\u2500 - \u2500\u2500\u2500\u2500\u2500\u2500\u2500\u2500\u2500\u2500\u2500\u2500\u2500\u2500\u2500\u2500\n",
        "                 6\u22c5c\u2082                                    2                    \n",
        "\n",
        "___________________\u23ab  \u23a7                               ________________________\n",
        "     2           \u239e \u23aa  \u23aa                     2        \u2571     2   2              \n",
        "b\u2083\u22c5c\u2082  - 6\u22c5c\u2082 + 4\u23a0 \u23ac  \u23a8              3\u22c5b\u2083\u22c5c\u2082  + c\u2082\u22c5\u2572\u2571  9\u22c5b\u2083 \u22c5c\u2082  - 18\u22c5b\u2083\u22c5c\u2082 + \n",
        "\u2500\u2500\u2500\u2500\u2500\u2500\u2500\u2500\u2500\u2500\u2500\u2500\u2500\u2500\u2500\u2500\u2500\u2500\u2500\u23aa, \u23aaa\u2082\u2081: c\u2082, a\u2083\u2081: \u2500\u2500\u2500\u2500\u2500\u2500\u2500\u2500\u2500\u2500\u2500\u2500\u2500\u2500\u2500\u2500\u2500\u2500\u2500\u2500\u2500\u2500\u2500\u2500\u2500\u2500\u2500\u2500\u2500\u2500\u2500\u2500\u2500\u2500\u2500\u2500\u2500\u2500\u2500\u2500\u2500\n",
        "6\u22c5b\u2083               \u23ad  \u23a9                                    6\u22c5b\u2083\u22c5c\u2082            \n",
        "\n",
        "______                                                   _____________________\n",
        "                                                  ___   \u2571    \u239b       2        \n",
        "12\u22c5b\u2083  - 1          1         -3\u22c5b\u2083\u22c5c\u2082 + 6\u22c5c\u2082 + \u2572\u2571 3 \u22c5\u2572\u2571  b\u2083\u22c5\u239d3\u22c5b\u2083\u22c5c\u2082  - 6\u22c5c\u2082 \n",
        "\u2500\u2500\u2500\u2500\u2500\u2500\u2500\u2500\u2500\u2500, a\u2083\u2082: \u2500\u2500\u2500\u2500\u2500\u2500\u2500, b\u2081: \u2500\u2500\u2500\u2500\u2500\u2500\u2500\u2500\u2500\u2500\u2500\u2500\u2500\u2500\u2500\u2500\u2500\u2500\u2500\u2500\u2500\u2500\u2500\u2500\u2500\u2500\u2500\u2500\u2500\u2500\u2500\u2500\u2500\u2500\u2500\u2500\u2500\u2500\u2500\u2500\u2500\u2500\u2500\u2500\u2500\u2500\u2500\u2500\n",
        "                 6\u22c5b\u2083\u22c5c\u2082                                 6\u22c5c\u2082                 \n",
        "\n",
        "_____                              __________________________                 \n",
        "   \u239e                        ___   \u2571    \u239b       2           \u239e                  \n",
        "+ 4\u23a0  - 3      -3\u22c5b\u2083\u22c5c\u2082 - \u2572\u2571 3 \u22c5\u2572\u2571  b\u2083\u22c5\u239d3\u22c5b\u2083\u22c5c\u2082  - 6\u22c5c\u2082 + 4\u23a0  + 3             \n",
        "\u2500\u2500\u2500\u2500\u2500\u2500\u2500\u2500\u2500, b\u2082: \u2500\u2500\u2500\u2500\u2500\u2500\u2500\u2500\u2500\u2500\u2500\u2500\u2500\u2500\u2500\u2500\u2500\u2500\u2500\u2500\u2500\u2500\u2500\u2500\u2500\u2500\u2500\u2500\u2500\u2500\u2500\u2500\u2500\u2500\u2500\u2500\u2500\u2500\u2500\u2500\u2500\u2500\u2500\u2500\u2500\u2500\u2500\u2500\u2500\u2500, c\u2081: 0, c\u2083: \n",
        "                                      6\u22c5c\u2082                                    \n",
        "\n",
        "              __________________________\u23ab\u23a4\n",
        "       ___   \u2571    \u239b       2           \u239e \u23aa\u23a5\n",
        "c\u2082   \u2572\u2571 3 \u22c5\u2572\u2571  b\u2083\u22c5\u239d3\u22c5b\u2083\u22c5c\u2082  - 6\u22c5c\u2082 + 4\u23a0 \u23ac\u23a5\n",
        "\u2500\u2500 + \u2500\u2500\u2500\u2500\u2500\u2500\u2500\u2500\u2500\u2500\u2500\u2500\u2500\u2500\u2500\u2500\u2500\u2500\u2500\u2500\u2500\u2500\u2500\u2500\u2500\u2500\u2500\u2500\u2500\u2500\u2500\u2500\u2500\u2500\u2500\u23aa\u23a5\n",
        "2                    6\u22c5b\u2083               \u23ad\u23a6"
       ]
      }
     ],
     "prompt_number": 29
    },
    {
     "cell_type": "code",
     "collapsed": false,
     "input": [
      "bs0,cs0,As0=vrk.substitute([b.T,c,A],sol2[0])\n",
      "bs0,cs0,As0"
     ],
     "language": "python",
     "metadata": {},
     "outputs": [
      {
       "latex": [
        "$$\\begin{pmatrix}\\left[\\begin{smallmatrix}- \\frac{1}{2} b_{3} + 1 - \\frac{\\sqrt{3} \\sqrt{3 b_{3}^{2} c_{2}^{2} - 6 b_{3} c_{2} + 4 b_{3}}}{6 c_{2}} - \\frac{1}{2 c_{2}} & - \\frac{1}{2} b_{3} + \\frac{\\sqrt{3} \\sqrt{3 b_{3}^{2} c_{2}^{2} - 6 b_{3} c_{2} + 4 b_{3}}}{6 c_{2}} + \\frac{1}{2 c_{2}} & b_{3}\\end{smallmatrix}\\right], & \\left[\\begin{smallmatrix}0\\\\c_{2}\\\\\\frac{1}{2} c_{2} - \\frac{\\sqrt{3} \\sqrt{3 b_{3}^{2} c_{2}^{2} - 6 b_{3} c_{2} + 4 b_{3}}}{6 b_{3}}\\end{smallmatrix}\\right], & \\left[\\begin{smallmatrix}0 & 0 & 0\\\\c_{2} & 0 & 0\\\\\\frac{1}{2} c_{2} - \\frac{\\sqrt{9 b_{3}^{2} c_{2}^{2} - 18 b_{3} c_{2} + 12 b_{3}}}{6 b_{3}} - \\frac{1}{6 b_{3} c_{2}} & \\frac{1}{6 b_{3} c_{2}} & 0\\end{smallmatrix}\\right]\\end{pmatrix}$$"
       ],
       "output_type": "pyout",
       "prompt_number": 30,
       "text": [
        "\u239b\u23a1                    ____________________________                         ___\n",
        "\u239c\u23a2             ___   \u2571     2   2                                    ___   \u2571   \n",
        "\u239c\u23a2  b\u2083       \u2572\u2571 3 \u22c5\u2572\u2571  3\u22c5b\u2083 \u22c5c\u2082  - 6\u22c5b\u2083\u22c5c\u2082 + 4\u22c5b\u2083     1      b\u2083   \u2572\u2571 3 \u22c5\u2572\u2571  3\u22c5\n",
        "\u239c\u23a2- \u2500\u2500 + 1 - \u2500\u2500\u2500\u2500\u2500\u2500\u2500\u2500\u2500\u2500\u2500\u2500\u2500\u2500\u2500\u2500\u2500\u2500\u2500\u2500\u2500\u2500\u2500\u2500\u2500\u2500\u2500\u2500\u2500\u2500\u2500\u2500\u2500\u2500\u2500\u2500\u2500 - \u2500\u2500\u2500\u2500  - \u2500\u2500 + \u2500\u2500\u2500\u2500\u2500\u2500\u2500\u2500\u2500\u2500\u2500\u2500\n",
        "\u239c\u23a3  2                         6\u22c5c\u2082                   2\u22c5c\u2082    2                \n",
        "\u239c                                                                             \n",
        "\u239c                                                                             \n",
        "\u239c                                                                             \n",
        "\u239c                                                                             \n",
        "\u239c                                                                             \n",
        "\u239c                                                                             \n",
        "\u239d                                                                             \n",
        "\n",
        "_________________________           \u23a4                                         \n",
        "  2   2                             \u23a5                                         \n",
        "b\u2083 \u22c5c\u2082  - 6\u22c5b\u2083\u22c5c\u2082 + 4\u22c5b\u2083     1      \u23a5                                         \n",
        "\u2500\u2500\u2500\u2500\u2500\u2500\u2500\u2500\u2500\u2500\u2500\u2500\u2500\u2500\u2500\u2500\u2500\u2500\u2500\u2500\u2500\u2500\u2500\u2500\u2500 + \u2500\u2500\u2500\u2500  b\u2083\u23a5, \u23a1                    0                 \n",
        "     6\u22c5c\u2082                   2\u22c5c\u2082    \u23a6  \u23a2                                      \n",
        "                                       \u23a2                    c\u2082                \n",
        "                                       \u23a2                                      \n",
        "                                       \u23a2              ________________________\n",
        "                                       \u23a2       ___   \u2571     2   2              \n",
        "                                       \u23a2c\u2082   \u2572\u2571 3 \u22c5\u2572\u2571  3\u22c5b\u2083 \u22c5c\u2082  - 6\u22c5b\u2083\u22c5c\u2082 + 4\n",
        "                                       \u23a2\u2500\u2500 - \u2500\u2500\u2500\u2500\u2500\u2500\u2500\u2500\u2500\u2500\u2500\u2500\u2500\u2500\u2500\u2500\u2500\u2500\u2500\u2500\u2500\u2500\u2500\u2500\u2500\u2500\u2500\u2500\u2500\u2500\u2500\u2500\u2500\n",
        "                                       \u23a32                     6\u22c5b\u2083            \n",
        "\n",
        "                                                                     \u239e\n",
        "                                                                     \u239f\n",
        "                                                                     \u239f\n",
        "    \u23a4, \u23a1                       0                             0     0\u23a4\u239f\n",
        "    \u23a5  \u23a2                                                            \u23a5\u239f\n",
        "    \u23a5  \u23a2                       c\u2082                            0     0\u23a5\u239f\n",
        "    \u23a5  \u23a2                                                            \u23a5\u239f\n",
        "____\u23a5  \u23a2        ______________________________                      \u23a5\u239f\n",
        "    \u23a5  \u23a2       \u2571     2   2                                          \u23a5\u239f\n",
        "\u22c5b\u2083 \u23a5  \u23a2c\u2082   \u2572\u2571  9\u22c5b\u2083 \u22c5c\u2082  - 18\u22c5b\u2083\u22c5c\u2082 + 12\u22c5b\u2083       1        1      \u23a5\u239f\n",
        "\u2500\u2500\u2500\u2500\u23a5  \u23a2\u2500\u2500 - \u2500\u2500\u2500\u2500\u2500\u2500\u2500\u2500\u2500\u2500\u2500\u2500\u2500\u2500\u2500\u2500\u2500\u2500\u2500\u2500\u2500\u2500\u2500\u2500\u2500\u2500\u2500\u2500\u2500\u2500\u2500\u2500\u2500 - \u2500\u2500\u2500\u2500\u2500\u2500\u2500  \u2500\u2500\u2500\u2500\u2500\u2500\u2500  0\u23a5\u239f\n",
        "    \u23a6  \u23a32                   6\u22c5b\u2083                 6\u22c5b\u2083\u22c5c\u2082  6\u22c5b\u2083\u22c5c\u2082   \u23a6\u23a0"
       ]
      }
     ],
     "prompt_number": 30
    },
    {
     "cell_type": "code",
     "collapsed": false,
     "input": [
      "bs1,cs1,As1=vrk.substitute([b.T,c,A],sol2[1])\n",
      "bs1,cs1,As1"
     ],
     "language": "python",
     "metadata": {},
     "outputs": [
      {
       "latex": [
        "$$\\begin{pmatrix}\\left[\\begin{smallmatrix}- \\frac{1}{2} b_{3} + 1 + \\frac{\\sqrt{3} \\sqrt{3 b_{3}^{2} c_{2}^{2} - 6 b_{3} c_{2} + 4 b_{3}}}{6 c_{2}} - \\frac{1}{2 c_{2}} & - \\frac{1}{2} b_{3} - \\frac{\\sqrt{3} \\sqrt{3 b_{3}^{2} c_{2}^{2} - 6 b_{3} c_{2} + 4 b_{3}}}{6 c_{2}} + \\frac{1}{2 c_{2}} & b_{3}\\end{smallmatrix}\\right], & \\left[\\begin{smallmatrix}0\\\\c_{2}\\\\\\frac{1}{2} c_{2} + \\frac{\\sqrt{3} \\sqrt{3 b_{3}^{2} c_{2}^{2} - 6 b_{3} c_{2} + 4 b_{3}}}{6 b_{3}}\\end{smallmatrix}\\right], & \\left[\\begin{smallmatrix}0 & 0 & 0\\\\c_{2} & 0 & 0\\\\\\frac{1}{2} c_{2} + \\frac{\\sqrt{9 b_{3}^{2} c_{2}^{2} - 18 b_{3} c_{2} + 12 b_{3}}}{6 b_{3}} - \\frac{1}{6 b_{3} c_{2}} & \\frac{1}{6 b_{3} c_{2}} & 0\\end{smallmatrix}\\right]\\end{pmatrix}$$"
       ],
       "output_type": "pyout",
       "prompt_number": 31,
       "text": [
        "\u239b\u23a1                    ____________________________                         ___\n",
        "\u239c\u23a2             ___   \u2571     2   2                                    ___   \u2571   \n",
        "\u239c\u23a2  b\u2083       \u2572\u2571 3 \u22c5\u2572\u2571  3\u22c5b\u2083 \u22c5c\u2082  - 6\u22c5b\u2083\u22c5c\u2082 + 4\u22c5b\u2083     1      b\u2083   \u2572\u2571 3 \u22c5\u2572\u2571  3\u22c5\n",
        "\u239c\u23a2- \u2500\u2500 + 1 + \u2500\u2500\u2500\u2500\u2500\u2500\u2500\u2500\u2500\u2500\u2500\u2500\u2500\u2500\u2500\u2500\u2500\u2500\u2500\u2500\u2500\u2500\u2500\u2500\u2500\u2500\u2500\u2500\u2500\u2500\u2500\u2500\u2500\u2500\u2500\u2500\u2500 - \u2500\u2500\u2500\u2500  - \u2500\u2500 - \u2500\u2500\u2500\u2500\u2500\u2500\u2500\u2500\u2500\u2500\u2500\u2500\n",
        "\u239c\u23a3  2                         6\u22c5c\u2082                   2\u22c5c\u2082    2                \n",
        "\u239c                                                                             \n",
        "\u239c                                                                             \n",
        "\u239c                                                                             \n",
        "\u239c                                                                             \n",
        "\u239c                                                                             \n",
        "\u239c                                                                             \n",
        "\u239d                                                                             \n",
        "\n",
        "_________________________           \u23a4                                         \n",
        "  2   2                             \u23a5                                         \n",
        "b\u2083 \u22c5c\u2082  - 6\u22c5b\u2083\u22c5c\u2082 + 4\u22c5b\u2083     1      \u23a5                                         \n",
        "\u2500\u2500\u2500\u2500\u2500\u2500\u2500\u2500\u2500\u2500\u2500\u2500\u2500\u2500\u2500\u2500\u2500\u2500\u2500\u2500\u2500\u2500\u2500\u2500\u2500 + \u2500\u2500\u2500\u2500  b\u2083\u23a5, \u23a1                    0                 \n",
        "     6\u22c5c\u2082                   2\u22c5c\u2082    \u23a6  \u23a2                                      \n",
        "                                       \u23a2                    c\u2082                \n",
        "                                       \u23a2                                      \n",
        "                                       \u23a2              ________________________\n",
        "                                       \u23a2       ___   \u2571     2   2              \n",
        "                                       \u23a2c\u2082   \u2572\u2571 3 \u22c5\u2572\u2571  3\u22c5b\u2083 \u22c5c\u2082  - 6\u22c5b\u2083\u22c5c\u2082 + 4\n",
        "                                       \u23a2\u2500\u2500 + \u2500\u2500\u2500\u2500\u2500\u2500\u2500\u2500\u2500\u2500\u2500\u2500\u2500\u2500\u2500\u2500\u2500\u2500\u2500\u2500\u2500\u2500\u2500\u2500\u2500\u2500\u2500\u2500\u2500\u2500\u2500\u2500\u2500\n",
        "                                       \u23a32                     6\u22c5b\u2083            \n",
        "\n",
        "                                                                     \u239e\n",
        "                                                                     \u239f\n",
        "                                                                     \u239f\n",
        "    \u23a4, \u23a1                       0                             0     0\u23a4\u239f\n",
        "    \u23a5  \u23a2                                                            \u23a5\u239f\n",
        "    \u23a5  \u23a2                       c\u2082                            0     0\u23a5\u239f\n",
        "    \u23a5  \u23a2                                                            \u23a5\u239f\n",
        "____\u23a5  \u23a2        ______________________________                      \u23a5\u239f\n",
        "    \u23a5  \u23a2       \u2571     2   2                                          \u23a5\u239f\n",
        "\u22c5b\u2083 \u23a5  \u23a2c\u2082   \u2572\u2571  9\u22c5b\u2083 \u22c5c\u2082  - 18\u22c5b\u2083\u22c5c\u2082 + 12\u22c5b\u2083       1        1      \u23a5\u239f\n",
        "\u2500\u2500\u2500\u2500\u23a5  \u23a2\u2500\u2500 + \u2500\u2500\u2500\u2500\u2500\u2500\u2500\u2500\u2500\u2500\u2500\u2500\u2500\u2500\u2500\u2500\u2500\u2500\u2500\u2500\u2500\u2500\u2500\u2500\u2500\u2500\u2500\u2500\u2500\u2500\u2500\u2500\u2500 - \u2500\u2500\u2500\u2500\u2500\u2500\u2500  \u2500\u2500\u2500\u2500\u2500\u2500\u2500  0\u23a5\u239f\n",
        "    \u23a6  \u23a32                   6\u22c5b\u2083                 6\u22c5b\u2083\u22c5c\u2082  6\u22c5b\u2083\u22c5c\u2082   \u23a6\u23a0"
       ]
      }
     ],
     "prompt_number": 31
    },
    {
     "cell_type": "code",
     "collapsed": false,
     "input": [
      "\n",
      "bn0,cn0,An0=vrk.substitute([bs0,cs0,As0],{c[1][0]:Rational(2,3)})\n",
      "bn0,cn0,An0"
     ],
     "language": "python",
     "metadata": {},
     "outputs": [
      {
       "latex": [
        "$$\\begin{pmatrix}\\left[\\begin{smallmatrix}- \\frac{1}{2} b_{3} - \\frac{1}{2} \\sqrt{b_{3}^{2}} + \\frac{1}{4} & - \\frac{1}{2} b_{3} + \\frac{1}{2} \\sqrt{b_{3}^{2}} + \\frac{3}{4} & b_{3}\\end{smallmatrix}\\right], & \\left[\\begin{smallmatrix}0\\\\\\frac{2}{3}\\\\\\frac{1}{3} - \\frac{\\sqrt{b_{3}^{2}}}{3 b_{3}}\\end{smallmatrix}\\right], & \\left[\\begin{smallmatrix}0 & 0 & 0\\\\\\frac{2}{3} & 0 & 0\\\\\\frac{1}{3} - \\frac{\\sqrt{b_{3}^{2}}}{3 b_{3}} - \\frac{1}{4 b_{3}} & \\frac{1}{4 b_{3}} & 0\\end{smallmatrix}\\right]\\end{pmatrix}$$"
       ],
       "output_type": "pyout",
       "prompt_number": 32,
       "text": [
        "\u239b\u23a1          _____                _____        \u23a4                               \n",
        "\u239c\u23a2         \u2571   2                \u2571   2         \u23a5                               \n",
        "\u239c\u23a2  b\u2083   \u2572\u2571  b\u2083     1    b\u2083   \u2572\u2571  b\u2083     3    \u23a5                               \n",
        "\u239c\u23a2- \u2500\u2500 - \u2500\u2500\u2500\u2500\u2500\u2500\u2500\u2500 + \u2500  - \u2500\u2500 + \u2500\u2500\u2500\u2500\u2500\u2500\u2500\u2500 + \u2500  b\u2083\u23a5, \u23a1     0      \u23a4, \u23a1         0  \n",
        "\u239c\u23a3  2       2       4    2       2       4    \u23a6  \u23a2            \u23a5  \u23a2            \n",
        "\u239c                                                \u23a2    2/3     \u23a5  \u23a2        2/3 \n",
        "\u239c                                                \u23a2            \u23a5  \u23a2            \n",
        "\u239c                                                \u23a2       _____\u23a5  \u23a2       _____\n",
        "\u239c                                                \u23a2      \u2571   2 \u23a5  \u23a2      \u2571   2 \n",
        "\u239c                                                \u23a21   \u2572\u2571  b\u2083  \u23a5  \u23a21   \u2572\u2571  b\u2083  \n",
        "\u239c                                                \u23a2\u2500 - \u2500\u2500\u2500\u2500\u2500\u2500\u2500\u2500\u23a5  \u23a2\u2500 - \u2500\u2500\u2500\u2500\u2500\u2500\u2500\u2500\n",
        "\u239d                                                \u23a33     3\u22c5b\u2083  \u23a6  \u23a33     3\u22c5b\u2083  \n",
        "\n",
        "                 \u239e\n",
        "                 \u239f\n",
        "                 \u239f\n",
        "          0    0\u23a4\u239f\n",
        "                \u23a5\u239f\n",
        "          0    0\u23a5\u239f\n",
        "                \u23a5\u239f\n",
        "                \u23a5\u239f\n",
        "                \u23a5\u239f\n",
        "    1     1     \u23a5\u239f\n",
        " - \u2500\u2500\u2500\u2500  \u2500\u2500\u2500\u2500  0\u23a5\u239f\n",
        "   4\u22c5b\u2083  4\u22c5b\u2083   \u23a6\u23a0"
       ]
      }
     ],
     "prompt_number": 32
    },
    {
     "cell_type": "code",
     "collapsed": false,
     "input": [
      "bn1,cn1,An1=vrk.substitute([bs1,cs1,As1],{c[1][0]:Rational(2,3)})\n",
      "bn1,cn1,An1"
     ],
     "language": "python",
     "metadata": {},
     "outputs": [
      {
       "latex": [
        "$$\\begin{pmatrix}\\left[\\begin{smallmatrix}- \\frac{1}{2} b_{3} + \\frac{1}{2} \\sqrt{b_{3}^{2}} + \\frac{1}{4} & - \\frac{1}{2} b_{3} - \\frac{1}{2} \\sqrt{b_{3}^{2}} + \\frac{3}{4} & b_{3}\\end{smallmatrix}\\right], & \\left[\\begin{smallmatrix}0\\\\\\frac{2}{3}\\\\\\frac{1}{3} + \\frac{\\sqrt{b_{3}^{2}}}{3 b_{3}}\\end{smallmatrix}\\right], & \\left[\\begin{smallmatrix}0 & 0 & 0\\\\\\frac{2}{3} & 0 & 0\\\\\\frac{1}{3} + \\frac{\\sqrt{b_{3}^{2}}}{3 b_{3}} - \\frac{1}{4 b_{3}} & \\frac{1}{4 b_{3}} & 0\\end{smallmatrix}\\right]\\end{pmatrix}$$"
       ],
       "output_type": "pyout",
       "prompt_number": 33,
       "text": [
        "\u239b\u23a1          _____                _____        \u23a4                               \n",
        "\u239c\u23a2         \u2571   2                \u2571   2         \u23a5                               \n",
        "\u239c\u23a2  b\u2083   \u2572\u2571  b\u2083     1    b\u2083   \u2572\u2571  b\u2083     3    \u23a5                               \n",
        "\u239c\u23a2- \u2500\u2500 + \u2500\u2500\u2500\u2500\u2500\u2500\u2500\u2500 + \u2500  - \u2500\u2500 - \u2500\u2500\u2500\u2500\u2500\u2500\u2500\u2500 + \u2500  b\u2083\u23a5, \u23a1     0      \u23a4, \u23a1         0  \n",
        "\u239c\u23a3  2       2       4    2       2       4    \u23a6  \u23a2            \u23a5  \u23a2            \n",
        "\u239c                                                \u23a2    2/3     \u23a5  \u23a2        2/3 \n",
        "\u239c                                                \u23a2            \u23a5  \u23a2            \n",
        "\u239c                                                \u23a2       _____\u23a5  \u23a2       _____\n",
        "\u239c                                                \u23a2      \u2571   2 \u23a5  \u23a2      \u2571   2 \n",
        "\u239c                                                \u23a21   \u2572\u2571  b\u2083  \u23a5  \u23a21   \u2572\u2571  b\u2083  \n",
        "\u239c                                                \u23a2\u2500 + \u2500\u2500\u2500\u2500\u2500\u2500\u2500\u2500\u23a5  \u23a2\u2500 + \u2500\u2500\u2500\u2500\u2500\u2500\u2500\u2500\n",
        "\u239d                                                \u23a33     3\u22c5b\u2083  \u23a6  \u23a33     3\u22c5b\u2083  \n",
        "\n",
        "                 \u239e\n",
        "                 \u239f\n",
        "                 \u239f\n",
        "          0    0\u23a4\u239f\n",
        "                \u23a5\u239f\n",
        "          0    0\u23a5\u239f\n",
        "                \u23a5\u239f\n",
        "                \u23a5\u239f\n",
        "                \u23a5\u239f\n",
        "    1     1     \u23a5\u239f\n",
        " - \u2500\u2500\u2500\u2500  \u2500\u2500\u2500\u2500  0\u23a5\u239f\n",
        "   4\u22c5b\u2083  4\u22c5b\u2083   \u23a6\u23a0"
       ]
      }
     ],
     "prompt_number": 33
    },
    {
     "cell_type": "code",
     "collapsed": false,
     "input": [
      "vrk.SymPowenest([bn1,cn1,An1]), vrk.SymPowenest([bn0,cn0,An0])"
     ],
     "language": "python",
     "metadata": {},
     "outputs": [
      {
       "latex": [
        "$$\\begin{pmatrix}\\begin{pmatrix}\\left[\\begin{smallmatrix}\\frac{1}{4} & - b_{3} + \\frac{3}{4} & b_{3}\\end{smallmatrix}\\right], & \\left[\\begin{smallmatrix}0\\\\\\frac{2}{3}\\\\\\frac{2}{3}\\end{smallmatrix}\\right], & \\left[\\begin{smallmatrix}0 & 0 & 0\\\\\\frac{2}{3} & 0 & 0\\\\\\frac{2}{3} - \\frac{1}{4 b_{3}} & \\frac{1}{4 b_{3}} & 0\\end{smallmatrix}\\right]\\end{pmatrix}, & \\begin{pmatrix}\\left[\\begin{smallmatrix}- b_{3} + \\frac{1}{4} & \\frac{3}{4} & b_{3}\\end{smallmatrix}\\right], & \\left[\\begin{smallmatrix}0\\\\\\frac{2}{3}\\\\0\\end{smallmatrix}\\right], & \\left[\\begin{smallmatrix}0 & 0 & 0\\\\\\frac{2}{3} & 0 & 0\\\\- \\frac{1}{4 b_{3}} & \\frac{1}{4 b_{3}} & 0\\end{smallmatrix}\\right]\\end{pmatrix}\\end{pmatrix}$$"
       ],
       "output_type": "pyout",
       "prompt_number": 34,
       "text": [
        "\u239b\u239b[1/4  -b\u2083 + 3/4  b\u2083], \u23a1 0 \u23a4, \u23a1   0       0    0\u23a4\u239e, \u239b[-b\u2083 + 1/4  3/4  b\u2083], \u23a1 \n",
        "\u239c\u239c                      \u23a2   \u23a5  \u23a2                 \u23a5\u239f  \u239c                      \u23a2 \n",
        "\u239c\u239c                      \u23a22/3\u23a5  \u23a2  2/3      0    0\u23a5\u239f  \u239c                      \u23a22\n",
        "\u239c\u239c                      \u23a2   \u23a5  \u23a2                 \u23a5\u239f  \u239c                      \u23a2 \n",
        "\u239c\u239c                      \u23a32/3\u23a6  \u23a22    1     1     \u23a5\u239f  \u239c                      \u23a3 \n",
        "\u239c\u239c                             \u23a2\u2500 - \u2500\u2500\u2500\u2500  \u2500\u2500\u2500\u2500  0\u23a5\u239f  \u239c                        \n",
        "\u239d\u239d                             \u23a33   4\u22c5b\u2083  4\u22c5b\u2083   \u23a6\u23a0  \u239d                        \n",
        "\n",
        "0 \u23a4, \u23a1 0     0    0\u23a4\u239e\u239e\n",
        "  \u23a5  \u23a2             \u23a5\u239f\u239f\n",
        "/3\u23a5  \u23a22/3    0    0\u23a5\u239f\u239f\n",
        "  \u23a5  \u23a2             \u23a5\u239f\u239f\n",
        "0 \u23a6  \u23a2 -1    1     \u23a5\u239f\u239f\n",
        "     \u23a2\u2500\u2500\u2500\u2500  \u2500\u2500\u2500\u2500  0\u23a5\u239f\u239f\n",
        "     \u23a34\u22c5b\u2083  4\u22c5b\u2083   \u23a6\u23a0\u23a0"
       ]
      }
     ],
     "prompt_number": 34
    }
   ],
   "metadata": {}
  }
 ]
}