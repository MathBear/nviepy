{
 "metadata": {
  "name": "BVRK123"
 },
 "nbformat": 3,
 "nbformat_minor": 0,
 "worksheets": [
  {
   "cells": [
    {
     "cell_type": "markdown",
     "metadata": {},
     "source": [
      "Bel'tyukov Volterra Runge-Kutta formulas\n",
      "====================================\n",
      "\n",
      "###Version 0.1\n",
      "\n",
      "\n",
      "This code uses the Pyhton package sympy to generate formulas up to stages $s=3$."
     ]
    },
    {
     "cell_type": "markdown",
     "metadata": {},
     "source": [
      "We first load sympy printing support, as well as all of sympy:"
     ]
    },
    {
     "cell_type": "code",
     "collapsed": false,
     "input": [
      "%load_ext sympy.interactive.ipythonprinting\n",
      "\n",
      "from __future__ import division\n",
      "from sympy import *"
     ],
     "language": "python",
     "metadata": {},
     "outputs": [],
     "prompt_number": 1
    },
    {
     "cell_type": "code",
     "collapsed": false,
     "input": [
      "from nviepy import vrk_methods as vrk  #Now let us load our nviepy."
     ],
     "language": "python",
     "metadata": {},
     "outputs": [],
     "prompt_number": 2
    },
    {
     "cell_type": "markdown",
     "metadata": {},
     "source": [
      "Implicit BVRK formula of order $p=2$ and $s=1$ stage\n",
      "----------------------------------------------------"
     ]
    },
    {
     "cell_type": "code",
     "collapsed": false,
     "input": [
      "s=1\n",
      "p=2\n",
      "b,c,A,d=vrk.create_arrays('BVRK','imp',s)\n",
      "Matrix(b.T), Matrix(d), Matrix(c), Matrix(A)"
     ],
     "language": "python",
     "metadata": {},
     "outputs": [
      {
       "latex": [
        "$$\\begin{pmatrix}\\left[\\begin{smallmatrix}b_{1}\\end{smallmatrix}\\right], & \\left[\\begin{smallmatrix}d_{1}\\end{smallmatrix}\\right], & \\left[\\begin{smallmatrix}c_{1}\\end{smallmatrix}\\right], & \\left[\\begin{smallmatrix}a_{11}\\end{smallmatrix}\\right]\\end{pmatrix}$$"
       ],
       "output_type": "pyout",
       "prompt_number": 3,
       "text": [
        "([b\u2081], [d\u2081], [c\u2081], [a\u2081\u2081])"
       ]
      }
     ],
     "prompt_number": 3
    },
    {
     "cell_type": "code",
     "collapsed": false,
     "input": [
      "eqns=vrk.gen_order_conditions(p,[b,c,A,d])\n",
      "eqns"
     ],
     "language": "python",
     "metadata": {},
     "outputs": [
      {
       "latex": [
        "$$\\begin{bmatrix}b_{1} = 1, & b_{1} d_{1} = 1, & b_{1} c_{1} = \\frac{1}{2}, & c_{1} = a_{11}\\end{bmatrix}$$"
       ],
       "output_type": "pyout",
       "prompt_number": 4,
       "text": [
        "[b\u2081 = 1, b\u2081\u22c5d\u2081 = 1, b\u2081\u22c5c\u2081 = 1/2, c\u2081 = a\u2081\u2081]"
       ]
      }
     ],
     "prompt_number": 4
    },
    {
     "cell_type": "code",
     "collapsed": false,
     "input": [
      "sol=solve(eqns)\n",
      "sol"
     ],
     "language": "python",
     "metadata": {},
     "outputs": [
      {
       "latex": [
        "$$\\begin{bmatrix}\\begin{Bmatrix}a_{11} : \\frac{1}{2}, & b_{1} : 1, & c_{1} : \\frac{1}{2}, & d_{1} : 1\\end{Bmatrix}\\end{bmatrix}$$"
       ],
       "output_type": "pyout",
       "prompt_number": 5,
       "text": [
        "[{a\u2081\u2081: 1/2, b\u2081: 1, c\u2081: 1/2, d\u2081: 1}]"
       ]
      }
     ],
     "prompt_number": 5
    },
    {
     "cell_type": "code",
     "collapsed": false,
     "input": [
      "bs,ds,cs,As=vrk.substitute([b.T,d,c,A],sol[0])\n",
      "bs,ds,cs,As"
     ],
     "language": "python",
     "metadata": {},
     "outputs": [
      {
       "latex": [
        "$$\\begin{pmatrix}\\left[\\begin{smallmatrix}1\\end{smallmatrix}\\right], & \\left[\\begin{smallmatrix}1\\end{smallmatrix}\\right], & \\left[\\begin{smallmatrix}\\frac{1}{2}\\end{smallmatrix}\\right], & \\left[\\begin{smallmatrix}\\frac{1}{2}\\end{smallmatrix}\\right]\\end{pmatrix}$$"
       ],
       "output_type": "pyout",
       "prompt_number": 6,
       "text": [
        "([1], [1], [1/2], [1/2])"
       ]
      }
     ],
     "prompt_number": 6
    },
    {
     "cell_type": "markdown",
     "metadata": {},
     "source": [
      "Explicit BVRK formulas of order $p=s=2$\n",
      "---------------------------------------"
     ]
    },
    {
     "cell_type": "code",
     "collapsed": false,
     "input": [
      "p=s=2\n",
      "b,c,A,d=vrk.create_arrays('BVRK','explicit',s)\n",
      "Matrix(b.T), Matrix(d), Matrix(c), Matrix(A)"
     ],
     "language": "python",
     "metadata": {},
     "outputs": [
      {
       "latex": [
        "$$\\begin{pmatrix}\\left[\\begin{smallmatrix}b_{1} & b_{2}\\end{smallmatrix}\\right], & \\left[\\begin{smallmatrix}d_{1}\\\\d_{2}\\end{smallmatrix}\\right], & \\left[\\begin{smallmatrix}c_{1}\\\\c_{2}\\end{smallmatrix}\\right], & \\left[\\begin{smallmatrix}0 & 0\\\\a_{21} & 0\\end{smallmatrix}\\right]\\end{pmatrix}$$"
       ],
       "output_type": "pyout",
       "prompt_number": 7,
       "text": [
        "\u239b[b\u2081  b\u2082], \u23a1d\u2081\u23a4, \u23a1c\u2081\u23a4, \u23a1 0   0\u23a4\u239e\n",
        "\u239c          \u23a2  \u23a5  \u23a2  \u23a5  \u23a2      \u23a5\u239f\n",
        "\u239d          \u23a3d\u2082\u23a6  \u23a3c\u2082\u23a6  \u23a3a\u2082\u2081  0\u23a6\u23a0"
       ]
      }
     ],
     "prompt_number": 7
    },
    {
     "cell_type": "code",
     "collapsed": false,
     "input": [
      "eqns=vrk.gen_order_conditions(p,[b,c,A,d])\n",
      "eqns"
     ],
     "language": "python",
     "metadata": {},
     "outputs": [
      {
       "latex": [
        "$$\\begin{bmatrix}b_{1} + b_{2} = 1, & b_{1} d_{1} + b_{2} d_{2} = 1, & b_{1} c_{1} + b_{2} c_{2} = \\frac{1}{2}, & c_{1} = 0, & c_{2} = a_{21}\\end{bmatrix}$$"
       ],
       "output_type": "pyout",
       "prompt_number": 8,
       "text": [
        "[b\u2081 + b\u2082 = 1, b\u2081\u22c5d\u2081 + b\u2082\u22c5d\u2082 = 1, b\u2081\u22c5c\u2081 + b\u2082\u22c5c\u2082 = 1/2, c\u2081 = 0, c\u2082 = a\u2082\u2081]"
       ]
      }
     ],
     "prompt_number": 8
    },
    {
     "cell_type": "code",
     "collapsed": false,
     "input": [
      "sol=solve(eqns)\n",
      "sol"
     ],
     "language": "python",
     "metadata": {},
     "outputs": [
      {
       "latex": [
        "$$\\begin{bmatrix}\\begin{Bmatrix}a_{21} : \\frac{d_{1} - d_{2}}{2 d_{1} -2}, & b_{1} : \\frac{- d_{2} + 1}{d_{1} - d_{2}}, & b_{2} : \\frac{d_{1} -1}{d_{1} - d_{2}}, & c_{1} : 0, & c_{2} : \\frac{d_{1} - d_{2}}{2 d_{1} -2}\\end{Bmatrix}\\end{bmatrix}$$"
       ],
       "output_type": "pyout",
       "prompt_number": 9,
       "text": [
        "\u23a1\u23a7      d\u2081 - d\u2082        -d\u2082 + 1       d\u2081 - 1              d\u2081 - d\u2082  \u23ab\u23a4\n",
        "\u23a2\u23a8a\u2082\u2081: \u2500\u2500\u2500\u2500\u2500\u2500\u2500\u2500\u2500\u2500, b\u2081: \u2500\u2500\u2500\u2500\u2500\u2500\u2500, b\u2082: \u2500\u2500\u2500\u2500\u2500\u2500\u2500, c\u2081: 0, c\u2082: \u2500\u2500\u2500\u2500\u2500\u2500\u2500\u2500\u2500\u2500\u23ac\u23a5\n",
        "\u23a3\u23a9     2\u22c5(d\u2081 - 1)      d\u2081 - d\u2082      d\u2081 - d\u2082             2\u22c5(d\u2081 - 1)\u23ad\u23a6"
       ]
      }
     ],
     "prompt_number": 9
    },
    {
     "cell_type": "code",
     "collapsed": false,
     "input": [
      "bs,ds,cs,As=vrk.substitute([b.T,d,c,A],sol[0])  #Automatic solution: NOT useful!\n",
      "bs,ds,cs,As"
     ],
     "language": "python",
     "metadata": {},
     "outputs": [
      {
       "latex": [
        "$$\\begin{pmatrix}\\left[\\begin{smallmatrix}- \\frac{d_{2}}{d_{1} - d_{2}} + \\frac{1}{d_{1} - d_{2}} & \\frac{d_{1}}{d_{1} - d_{2}} - \\frac{1}{d_{1} - d_{2}}\\end{smallmatrix}\\right], & \\left[\\begin{smallmatrix}d_{1}\\\\d_{2}\\end{smallmatrix}\\right], & \\left[\\begin{smallmatrix}0\\\\\\frac{d_{1}}{2 d_{1} -2} - \\frac{d_{2}}{2 d_{1} -2}\\end{smallmatrix}\\right], & \\left[\\begin{smallmatrix}0 & 0\\\\\\frac{d_{1}}{2 d_{1} -2} - \\frac{d_{2}}{2 d_{1} -2} & 0\\end{smallmatrix}\\right]\\end{pmatrix}$$"
       ],
       "output_type": "pyout",
       "prompt_number": 10,
       "text": [
        "\u239b\u23a1     d\u2082        1        d\u2081        1   \u23a4                                     \n",
        "\u239c\u23a2- \u2500\u2500\u2500\u2500\u2500\u2500\u2500 + \u2500\u2500\u2500\u2500\u2500\u2500\u2500  \u2500\u2500\u2500\u2500\u2500\u2500\u2500 - \u2500\u2500\u2500\u2500\u2500\u2500\u2500\u23a5, \u23a1d\u2081\u23a4, \u23a1           0           \u23a4, \u23a1 \n",
        "\u239c\u23a3  d\u2081 - d\u2082   d\u2081 - d\u2082  d\u2081 - d\u2082   d\u2081 - d\u2082\u23a6  \u23a2  \u23a5  \u23a2                       \u23a5  \u23a2 \n",
        "\u239c                                          \u23a3d\u2082\u23a6  \u23a2    d\u2081           d\u2082    \u23a5  \u23a2 \n",
        "\u239c                                                \u23a2\u2500\u2500\u2500\u2500\u2500\u2500\u2500\u2500\u2500\u2500 - \u2500\u2500\u2500\u2500\u2500\u2500\u2500\u2500\u2500\u2500\u23a5  \u23a2\u2500\n",
        "\u239d                                                \u23a32\u22c5(d\u2081 - 1)   2\u22c5(d\u2081 - 1)\u23a6  \u23a32\n",
        "\n",
        "                          \u239e\n",
        "          0             0\u23a4\u239f\n",
        "                         \u23a5\u239f\n",
        "   d\u2081           d\u2082       \u23a5\u239f\n",
        "\u2500\u2500\u2500\u2500\u2500\u2500\u2500\u2500\u2500 - \u2500\u2500\u2500\u2500\u2500\u2500\u2500\u2500\u2500\u2500  0\u23a5\u239f\n",
        "\u22c5(d\u2081 - 1)   2\u22c5(d\u2081 - 1)   \u23a6\u23a0"
       ]
      }
     ],
     "prompt_number": 10
    },
    {
     "cell_type": "code",
     "collapsed": false,
     "input": [
      "vrk.substitute([bs,ds,cs,As],{d[0][0]:1}) # division by zero!"
     ],
     "language": "python",
     "metadata": {},
     "outputs": [
      {
       "latex": [
        "$$\\begin{pmatrix}\\left[\\begin{smallmatrix}- \\frac{d_{2}}{- d_{2} + 1} + \\frac{1}{- d_{2} + 1} & 0\\end{smallmatrix}\\right], & \\left[\\begin{smallmatrix}1\\\\d_{2}\\end{smallmatrix}\\right], & \\left[\\begin{smallmatrix}0\\\\- \\infty d_{2} + \\infty\\end{smallmatrix}\\right], & \\left[\\begin{smallmatrix}0 & 0\\\\- \\infty d_{2} + \\infty & 0\\end{smallmatrix}\\right]\\end{pmatrix}$$"
       ],
       "output_type": "pyout",
       "prompt_number": 11,
       "text": [
        "\u239b\u23a1     d\u2082        1      \u23a4                                   \u239e\n",
        "\u239c\u23a2- \u2500\u2500\u2500\u2500\u2500\u2500\u2500 + \u2500\u2500\u2500\u2500\u2500\u2500\u2500  0\u23a5, \u23a11 \u23a4, \u23a1    0    \u23a4, \u23a1    0      0\u23a4\u239f\n",
        "\u239c\u23a3  -d\u2082 + 1   -d\u2082 + 1   \u23a6  \u23a2  \u23a5  \u23a2         \u23a5  \u23a2            \u23a5\u239f\n",
        "\u239d                          \u23a3d\u2082\u23a6  \u23a3-\u221e\u22c5d\u2082 + \u221e\u23a6  \u23a3-\u221e\u22c5d\u2082 + \u221e  0\u23a6\u23a0"
       ]
      }
     ],
     "prompt_number": 11
    },
    {
     "cell_type": "code",
     "collapsed": false,
     "input": [
      "sol2=solve(eqns,exclude=[c[1][0],d[0][0]],dict=True)\n",
      "sol2"
     ],
     "language": "python",
     "metadata": {},
     "outputs": [
      {
       "latex": [
        "$$\\begin{bmatrix}\\begin{Bmatrix}a_{21} : c_{2}, & b_{1} : \\frac{2 c_{2} -1}{2 c_{2}}, & b_{2} : \\frac{1}{2 c_{2}}, & c_{1} : 0, & d_{2} : - 2 c_{2} d_{1} + 2 c_{2} + d_{1}\\end{Bmatrix}\\end{bmatrix}$$"
       ],
       "output_type": "pyout",
       "prompt_number": 12,
       "text": [
        "\u23a1\u23a7             2\u22c5c\u2082 - 1       1                                   \u23ab\u23a4\n",
        "\u23a2\u23a8a\u2082\u2081: c\u2082, b\u2081: \u2500\u2500\u2500\u2500\u2500\u2500\u2500\u2500, b\u2082: \u2500\u2500\u2500\u2500, c\u2081: 0, d\u2082: -2\u22c5c\u2082\u22c5d\u2081 + 2\u22c5c\u2082 + d\u2081\u23ac\u23a5\n",
        "\u23a3\u23a9               2\u22c5c\u2082        2\u22c5c\u2082                                 \u23ad\u23a6"
       ]
      }
     ],
     "prompt_number": 12
    },
    {
     "cell_type": "code",
     "collapsed": false,
     "input": [
      "bs,ds,cs,As=vrk.substitute([b.T,d,c,A],sol2[0],executexpand=False)\n",
      "bs,ds,cs,As"
     ],
     "language": "python",
     "metadata": {},
     "outputs": [
      {
       "latex": [
        "$$\\begin{pmatrix}\\left[\\begin{smallmatrix}\\frac{2 c_{2} -1}{2 c_{2}} & \\frac{1}{2 c_{2}}\\end{smallmatrix}\\right], & \\left[\\begin{smallmatrix}d_{1}\\\\- 2 c_{2} d_{1} + 2 c_{2} + d_{1}\\end{smallmatrix}\\right], & \\left[\\begin{smallmatrix}0\\\\c_{2}\\end{smallmatrix}\\right], & \\left[\\begin{smallmatrix}0 & 0\\\\c_{2} & 0\\end{smallmatrix}\\right]\\end{pmatrix}$$"
       ],
       "output_type": "pyout",
       "prompt_number": 13,
       "text": [
        "\u239b\u23a12\u22c5c\u2082 - 1   1  \u23a4                                       \u239e\n",
        "\u239c\u23a2\u2500\u2500\u2500\u2500\u2500\u2500\u2500\u2500  \u2500\u2500\u2500\u2500\u23a5, \u23a1         d\u2081         \u23a4, \u23a10 \u23a4, \u23a10   0\u23a4\u239f\n",
        "\u239c\u23a3  2\u22c5c\u2082    2\u22c5c\u2082\u23a6  \u23a2                    \u23a5  \u23a2  \u23a5  \u23a2     \u23a5\u239f\n",
        "\u239d                  \u23a3-2\u22c5c\u2082\u22c5d\u2081 + 2\u22c5c\u2082 + d\u2081\u23a6  \u23a3c\u2082\u23a6  \u23a3c\u2082  0\u23a6\u23a0"
       ]
      }
     ],
     "prompt_number": 13
    },
    {
     "cell_type": "code",
     "collapsed": false,
     "input": [
      "bn,dn,cn,An=vrk.substitute([bs,ds,cs,As],{d[0][0]:1},executexpand=False)\n",
      "bn,dn,cn,An"
     ],
     "language": "python",
     "metadata": {},
     "outputs": [
      {
       "latex": [
        "$$\\begin{pmatrix}\\left[\\begin{smallmatrix}\\frac{2 c_{2} -1}{2 c_{2}} & \\frac{1}{2 c_{2}}\\end{smallmatrix}\\right], & \\left[\\begin{smallmatrix}1\\\\1\\end{smallmatrix}\\right], & \\left[\\begin{smallmatrix}0\\\\c_{2}\\end{smallmatrix}\\right], & \\left[\\begin{smallmatrix}0 & 0\\\\c_{2} & 0\\end{smallmatrix}\\right]\\end{pmatrix}$$"
       ],
       "output_type": "pyout",
       "prompt_number": 14,
       "text": [
        "\u239b\u23a12\u22c5c\u2082 - 1   1  \u23a4                    \u239e\n",
        "\u239c\u23a2\u2500\u2500\u2500\u2500\u2500\u2500\u2500\u2500  \u2500\u2500\u2500\u2500\u23a5, \u23a11\u23a4, \u23a10 \u23a4, \u23a10   0\u23a4\u239f\n",
        "\u239c\u23a3  2\u22c5c\u2082    2\u22c5c\u2082\u23a6  \u23a2 \u23a5  \u23a2  \u23a5  \u23a2     \u23a5\u239f\n",
        "\u239d                  \u23a31\u23a6  \u23a3c\u2082\u23a6  \u23a3c\u2082  0\u23a6\u23a0"
       ]
      }
     ],
     "prompt_number": 14
    },
    {
     "cell_type": "code",
     "collapsed": false,
     "input": [
      "vrk.substitute([bn,dn,cn,An],{c[1][0]:Rational(2,3)}), vrk.substitute([bn,dn,cn,An],{c[1][0]:Rational(1,2)})"
     ],
     "language": "python",
     "metadata": {},
     "outputs": [
      {
       "latex": [
        "$$\\begin{pmatrix}\\begin{pmatrix}\\left[\\begin{smallmatrix}\\frac{1}{4} & \\frac{3}{4}\\end{smallmatrix}\\right], & \\left[\\begin{smallmatrix}1\\\\1\\end{smallmatrix}\\right], & \\left[\\begin{smallmatrix}0\\\\\\frac{2}{3}\\end{smallmatrix}\\right], & \\left[\\begin{smallmatrix}0 & 0\\\\\\frac{2}{3} & 0\\end{smallmatrix}\\right]\\end{pmatrix}, & \\begin{pmatrix}\\left[\\begin{smallmatrix}0 & 1\\end{smallmatrix}\\right], & \\left[\\begin{smallmatrix}1\\\\1\\end{smallmatrix}\\right], & \\left[\\begin{smallmatrix}0\\\\\\frac{1}{2}\\end{smallmatrix}\\right], & \\left[\\begin{smallmatrix}0 & 0\\\\\\frac{1}{2} & 0\\end{smallmatrix}\\right]\\end{pmatrix}\\end{pmatrix}$$"
       ],
       "output_type": "pyout",
       "prompt_number": 15,
       "text": [
        "\u239b\u239b[1/4  3/4], \u23a11\u23a4, \u23a1 0 \u23a4, \u23a1 0   0\u23a4\u239e, \u239b[0  1], \u23a11\u23a4, \u23a1 0 \u23a4, \u23a1 0   0\u23a4\u239e\u239e\n",
        "\u239c\u239c            \u23a2 \u23a5  \u23a2   \u23a5  \u23a2      \u23a5\u239f  \u239c        \u23a2 \u23a5  \u23a2   \u23a5  \u23a2      \u23a5\u239f\u239f\n",
        "\u239d\u239d            \u23a31\u23a6  \u23a32/3\u23a6  \u23a32/3  0\u23a6\u23a0  \u239d        \u23a31\u23a6  \u23a31/2\u23a6  \u23a31/2  0\u23a6\u23a0\u23a0"
       ]
      }
     ],
     "prompt_number": 15
    },
    {
     "cell_type": "markdown",
     "metadata": {},
     "source": [
      "Explicit BVRK formulas of order $p=s=3$\n",
      "---------------------------------------"
     ]
    },
    {
     "cell_type": "code",
     "collapsed": false,
     "input": [
      "p=s=3\n",
      "b,c,A,d=vrk.create_arrays('BVRK','explicit',s)\n",
      "Matrix(b.T), Matrix(d), Matrix(c), Matrix(A)"
     ],
     "language": "python",
     "metadata": {},
     "outputs": [
      {
       "latex": [
        "$$\\begin{pmatrix}\\left[\\begin{smallmatrix}b_{1} & b_{2} & b_{3}\\end{smallmatrix}\\right], & \\left[\\begin{smallmatrix}d_{1}\\\\d_{2}\\\\d_{3}\\end{smallmatrix}\\right], & \\left[\\begin{smallmatrix}c_{1}\\\\c_{2}\\\\c_{3}\\end{smallmatrix}\\right], & \\left[\\begin{smallmatrix}0 & 0 & 0\\\\a_{21} & 0 & 0\\\\a_{31} & a_{32} & 0\\end{smallmatrix}\\right]\\end{pmatrix}$$"
       ],
       "output_type": "pyout",
       "prompt_number": 16,
       "text": [
        "\u239b[b\u2081  b\u2082  b\u2083], \u23a1d\u2081\u23a4, \u23a1c\u2081\u23a4, \u23a1 0    0   0\u23a4\u239e\n",
        "\u239c              \u23a2  \u23a5  \u23a2  \u23a5  \u23a2           \u23a5\u239f\n",
        "\u239c              \u23a2d\u2082\u23a5  \u23a2c\u2082\u23a5  \u23a2a\u2082\u2081   0   0\u23a5\u239f\n",
        "\u239c              \u23a2  \u23a5  \u23a2  \u23a5  \u23a2           \u23a5\u239f\n",
        "\u239d              \u23a3d\u2083\u23a6  \u23a3c\u2083\u23a6  \u23a3a\u2083\u2081  a\u2083\u2082  0\u23a6\u23a0"
       ]
      }
     ],
     "prompt_number": 16
    },
    {
     "cell_type": "code",
     "collapsed": false,
     "input": [
      "eqns=vrk.gen_order_conditions(p,[b,c,A,d])\n",
      "eqns"
     ],
     "language": "python",
     "metadata": {},
     "outputs": [
      {
       "latex": [
        "$$\\begin{bmatrix}b_{1} + b_{2} + b_{3} = 1, & b_{1} d_{1} + b_{2} d_{2} + b_{3} d_{3} = 1, & b_{1} c_{1} + b_{2} c_{2} + b_{3} c_{3} = \\frac{1}{2}, & b_{1} d_{1}^{2} + b_{2} d_{2}^{2} + b_{3} d_{3}^{2} = 1, & a_{21} b_{2} d_{1} + a_{31} b_{3} d_{1} + a_{32} b_{3} d_{2} = \\frac{1}{3}, & a_{21} b_{2} c_{1} + a_{31} b_{3} c_{1} + a_{32} b_{3} c_{2} = \\frac{1}{6}, & b_{1} c_{1}^{2} + b_{2} c_{2}^{2} + b_{3} c_{3}^{2} = \\frac{1}{3}, & b_{1} c_{1} d_{1} + b_{2} c_{2} d_{2} + b_{3} c_{3} d_{3} = \\frac{1}{2}, & c_{1} = 0, & c_{2} = a_{21}, & c_{3} = a_{31} + a_{32}\\end{bmatrix}$$"
       ],
       "output_type": "pyout",
       "prompt_number": 17,
       "text": [
        "\u23a1                                                                             \n",
        "\u23a3b\u2081 + b\u2082 + b\u2083 = 1, b\u2081\u22c5d\u2081 + b\u2082\u22c5d\u2082 + b\u2083\u22c5d\u2083 = 1, b\u2081\u22c5c\u2081 + b\u2082\u22c5c\u2082 + b\u2083\u22c5c\u2083 = 1/2, b\u2081\u22c5\n",
        "\n",
        "  2        2        2                                                         \n",
        "d\u2081  + b\u2082\u22c5d\u2082  + b\u2083\u22c5d\u2083  = 1, a\u2082\u2081\u22c5b\u2082\u22c5d\u2081 + a\u2083\u2081\u22c5b\u2083\u22c5d\u2081 + a\u2083\u2082\u22c5b\u2083\u22c5d\u2082 = 1/3, a\u2082\u2081\u22c5b\u2082\u22c5c\u2081 \n",
        "\n",
        "                                    2        2        2                       \n",
        "+ a\u2083\u2081\u22c5b\u2083\u22c5c\u2081 + a\u2083\u2082\u22c5b\u2083\u22c5c\u2082 = 1/6, b\u2081\u22c5c\u2081  + b\u2082\u22c5c\u2082  + b\u2083\u22c5c\u2083  = 1/3, b\u2081\u22c5c\u2081\u22c5d\u2081 + b\u2082\u22c5c\n",
        "\n",
        "                                                       \u23a4\n",
        "\u2082\u22c5d\u2082 + b\u2083\u22c5c\u2083\u22c5d\u2083 = 1/2, c\u2081 = 0, c\u2082 = a\u2082\u2081, c\u2083 = a\u2083\u2081 + a\u2083\u2082\u23a6"
       ]
      }
     ],
     "prompt_number": 17
    },
    {
     "cell_type": "code",
     "collapsed": false,
     "input": [
      "sol=solve(eqns)\n",
      "sol"
     ],
     "language": "python",
     "metadata": {},
     "outputs": [
      {
       "latex": [
        "$$\\begin{bmatrix}\\begin{Bmatrix}a_{21} : - d_{2} + 1, & a_{31} : \\frac{2}{9} \\frac{3 d_{2} -2}{d_{2} -1}, & a_{32} : \\frac{2}{- 9 d_{2} + 9}, & b_{1} : \\frac{1}{4}, & b_{2} : 0, & b_{3} : \\frac{3}{4}, & c_{1} : 0, & c_{2} : - d_{2} + 1, & c_{3} : \\frac{2}{3}, & d_{1} : 1, & d_{3} : 1\\end{Bmatrix}\\end{bmatrix}$$"
       ],
       "output_type": "pyout",
       "prompt_number": 18,
       "text": [
        "\u23a1\u23a7                   2\u22c5(3\u22c5d\u2082 - 2)           2                                 \n",
        "\u23a2\u23a8a\u2082\u2081: -d\u2082 + 1, a\u2083\u2081: \u2500\u2500\u2500\u2500\u2500\u2500\u2500\u2500\u2500\u2500\u2500\u2500, a\u2083\u2082: \u2500\u2500\u2500\u2500\u2500\u2500\u2500\u2500\u2500, b\u2081: 1/4, b\u2082: 0, b\u2083: 3/4, c\u2081\n",
        "\u23a3\u23a9                    9\u22c5(d\u2082 - 1)        -9\u22c5d\u2082 + 9                             \n",
        "\n",
        "                                       \u23ab\u23a4\n",
        ": 0, c\u2082: -d\u2082 + 1, c\u2083: 2/3, d\u2081: 1, d\u2083: 1\u23ac\u23a5\n",
        "                                       \u23ad\u23a6"
       ]
      }
     ],
     "prompt_number": 18
    },
    {
     "cell_type": "markdown",
     "metadata": {},
     "source": [
      "Observe that automatically we have $d_1=d_3=1$ and $b_2=0$, i.e. Case 1"
     ]
    },
    {
     "cell_type": "code",
     "collapsed": false,
     "input": [
      "bs,ds,cs,As=vrk.substitute([b.T,d,c,A],sol[0])\n",
      "bs,ds,cs,As"
     ],
     "language": "python",
     "metadata": {},
     "outputs": [
      {
       "latex": [
        "$$\\begin{pmatrix}\\left[\\begin{smallmatrix}\\frac{1}{4} & 0 & \\frac{3}{4}\\end{smallmatrix}\\right], & \\left[\\begin{smallmatrix}1\\\\d_{2}\\\\1\\end{smallmatrix}\\right], & \\left[\\begin{smallmatrix}0\\\\- d_{2} + 1\\\\\\frac{2}{3}\\end{smallmatrix}\\right], & \\left[\\begin{smallmatrix}0 & 0 & 0\\\\- d_{2} + 1 & 0 & 0\\\\\\frac{2}{3} \\frac{d_{2}}{d_{2} -1} - \\frac{4}{9 d_{2} -9} & \\frac{2}{- 9 d_{2} + 9} & 0\\end{smallmatrix}\\right]\\end{pmatrix}$$"
       ],
       "output_type": "pyout",
       "prompt_number": 19,
       "text": [
        "\u239b[1/4  0  3/4], \u23a11 \u23a4, \u23a1   0   \u23a4, \u23a1           0                 0      0\u23a4\u239e\n",
        "\u239c               \u23a2  \u23a5  \u23a2       \u23a5  \u23a2                                     \u23a5\u239f\n",
        "\u239c               \u23a2d\u2082\u23a5  \u23a2-d\u2082 + 1\u23a5  \u23a2        -d\u2082 + 1              0      0\u23a5\u239f\n",
        "\u239c               \u23a2  \u23a5  \u23a2       \u23a5  \u23a2                                     \u23a5\u239f\n",
        "\u239c               \u23a31 \u23a6  \u23a3  2/3  \u23a6  \u23a2   2\u22c5d\u2082          4           2       \u23a5\u239f\n",
        "\u239c                                \u23a2\u2500\u2500\u2500\u2500\u2500\u2500\u2500\u2500\u2500\u2500 - \u2500\u2500\u2500\u2500\u2500\u2500\u2500\u2500\u2500\u2500  \u2500\u2500\u2500\u2500\u2500\u2500\u2500\u2500\u2500  0\u23a5\u239f\n",
        "\u239d                                \u23a33\u22c5(d\u2082 - 1)   9\u22c5(d\u2082 - 1)  -9\u22c5d\u2082 + 9   \u23a6\u23a0"
       ]
      }
     ],
     "prompt_number": 19
    },
    {
     "cell_type": "code",
     "collapsed": false,
     "input": [
      "vrk.substitute([bs,ds,cs,As],{d[1][0]:Rational(1,2)}), vrk.substitute([bs,ds,cs,As],{d[1][0]:Rational(2,3)})"
     ],
     "language": "python",
     "metadata": {},
     "outputs": [
      {
       "latex": [
        "$$\\begin{pmatrix}\\begin{pmatrix}\\left[\\begin{smallmatrix}\\frac{1}{4} & 0 & \\frac{3}{4}\\end{smallmatrix}\\right], & \\left[\\begin{smallmatrix}1\\\\\\frac{1}{2}\\\\1\\end{smallmatrix}\\right], & \\left[\\begin{smallmatrix}0\\\\\\frac{1}{2}\\\\\\frac{2}{3}\\end{smallmatrix}\\right], & \\left[\\begin{smallmatrix}0 & 0 & 0\\\\\\frac{1}{2} & 0 & 0\\\\\\frac{2}{9} & \\frac{4}{9} & 0\\end{smallmatrix}\\right]\\end{pmatrix}, & \\begin{pmatrix}\\left[\\begin{smallmatrix}\\frac{1}{4} & 0 & \\frac{3}{4}\\end{smallmatrix}\\right], & \\left[\\begin{smallmatrix}1\\\\\\frac{2}{3}\\\\1\\end{smallmatrix}\\right], & \\left[\\begin{smallmatrix}0\\\\\\frac{1}{3}\\\\\\frac{2}{3}\\end{smallmatrix}\\right], & \\left[\\begin{smallmatrix}0 & 0 & 0\\\\\\frac{1}{3} & 0 & 0\\\\0 & \\frac{2}{3} & 0\\end{smallmatrix}\\right]\\end{pmatrix}\\end{pmatrix}$$"
       ],
       "output_type": "pyout",
       "prompt_number": 20,
       "text": [
        "\u239b\u239b[1/4  0  3/4], \u23a1 1 \u23a4, \u23a1 0 \u23a4, \u23a1 0    0   0\u23a4\u239e, \u239b[1/4  0  3/4], \u23a1 1 \u23a4, \u23a1 0 \u23a4, \u23a1\n",
        "\u239c\u239c               \u23a2   \u23a5  \u23a2   \u23a5  \u23a2           \u23a5\u239f  \u239c               \u23a2   \u23a5  \u23a2   \u23a5  \u23a2\n",
        "\u239c\u239c               \u23a21/2\u23a5  \u23a21/2\u23a5  \u23a21/2   0   0\u23a5\u239f  \u239c               \u23a22/3\u23a5  \u23a21/3\u23a5  \u23a2\n",
        "\u239c\u239c               \u23a2   \u23a5  \u23a2   \u23a5  \u23a2           \u23a5\u239f  \u239c               \u23a2   \u23a5  \u23a2   \u23a5  \u23a2\n",
        "\u239d\u239d               \u23a3 1 \u23a6  \u23a32/3\u23a6  \u23a32/9  4/9  0\u23a6\u23a0  \u239d               \u23a3 1 \u23a6  \u23a32/3\u23a6  \u23a3\n",
        "\n",
        " 0    0   0\u23a4\u239e\u239e\n",
        "           \u23a5\u239f\u239f\n",
        "1/3   0   0\u23a5\u239f\u239f\n",
        "           \u23a5\u239f\u239f\n",
        " 0   2/3  0\u23a6\u23a0\u23a0"
       ]
      }
     ],
     "prompt_number": 20
    },
    {
     "cell_type": "markdown",
     "metadata": {},
     "source": [
      "Now let us go for Case 2, i.e. $d_2=d_3=1$ and $b_1=0$"
     ]
    },
    {
     "cell_type": "code",
     "collapsed": false,
     "input": [
      "sol2=solve(eqns,exclude=[d[0][0]])\n",
      "sol2"
     ],
     "language": "python",
     "metadata": {},
     "outputs": [
      {
       "latex": [
        "$$\\begin{bmatrix}\\begin{Bmatrix}a_{21} : \\frac{d_{1} -1}{3 d_{1} -2}, & a_{31} : \\frac{- 9 d_{1}^{3} + 18 d_{1}^{2} - 15 d_{1} + 4}{9 d_{1}^{2} \\left(d_{1} -1\\right)}, & a_{32} : \\frac{2}{9} \\frac{9 d_{1}^{3} - 15 d_{1}^{2} + 9 d_{1} -2}{d_{1}^{2} \\left(d_{1} -1\\right)}, & b_{1} : 0, & b_{2} : \\frac{\\left(3 d_{1} -2\\right)^{2}}{12 d_{1}^{2} - 12 d_{1} + 4}, & b_{3} : \\frac{3}{4} \\frac{d_{1}^{2}}{3 d_{1}^{2} - 3 d_{1} + 1}, & c_{1} : 0, & c_{2} : \\frac{d_{1} -1}{3 d_{1} -2}, & c_{3} : \\frac{d_{1} - \\frac{1}{3}}{d_{1}}, & d_{2} : 1, & d_{3} : 1\\end{Bmatrix}\\end{bmatrix}$$"
       ],
       "output_type": "pyout",
       "prompt_number": 21,
       "text": [
        "\u23a1\u23a7                          3        2                     \u239b    3        2    \n",
        "\u23a2\u23aa      d\u2081 - 1        - 9\u22c5d\u2081  + 18\u22c5d\u2081  - 15\u22c5d\u2081 + 4       2\u22c5\u239d9\u22c5d\u2081  - 15\u22c5d\u2081  + 9\n",
        "\u23a2\u23a8a\u2082\u2081: \u2500\u2500\u2500\u2500\u2500\u2500\u2500\u2500, a\u2083\u2081: \u2500\u2500\u2500\u2500\u2500\u2500\u2500\u2500\u2500\u2500\u2500\u2500\u2500\u2500\u2500\u2500\u2500\u2500\u2500\u2500\u2500\u2500\u2500\u2500\u2500\u2500\u2500\u2500, a\u2083\u2082: \u2500\u2500\u2500\u2500\u2500\u2500\u2500\u2500\u2500\u2500\u2500\u2500\u2500\u2500\u2500\u2500\u2500\u2500\u2500\u2500\u2500\n",
        "\u23a2\u23aa     3\u22c5d\u2081 - 2                  2                                   2        \n",
        "\u23a3\u23a9                           9\u22c5d\u2081 \u22c5(d\u2081 - 1)                      9\u22c5d\u2081 \u22c5(d\u2081 - 1\n",
        "\n",
        "       \u239e                           2                      2                   \n",
        "\u22c5d\u2081 - 2\u23a0                 (3\u22c5d\u2081 - 2)                   3\u22c5d\u2081                    \n",
        "\u2500\u2500\u2500\u2500\u2500\u2500\u2500\u2500, b\u2081: 0, b\u2082: \u2500\u2500\u2500\u2500\u2500\u2500\u2500\u2500\u2500\u2500\u2500\u2500\u2500\u2500\u2500\u2500\u2500\u2500\u2500\u2500, b\u2083: \u2500\u2500\u2500\u2500\u2500\u2500\u2500\u2500\u2500\u2500\u2500\u2500\u2500\u2500\u2500\u2500\u2500\u2500\u2500\u2500, c\u2081: 0, c\u2082\n",
        "                       \u239b    2           \u239e        \u239b    2           \u239e           \n",
        ")                    4\u22c5\u239d3\u22c5d\u2081  - 3\u22c5d\u2081 + 1\u23a0      4\u22c5\u239d3\u22c5d\u2081  - 3\u22c5d\u2081 + 1\u23a0           \n",
        "\n",
        "                                      \u23ab\u23a4\n",
        "   d\u2081 - 1       d\u2081 - 1/3              \u23aa\u23a5\n",
        ": \u2500\u2500\u2500\u2500\u2500\u2500\u2500\u2500, c\u2083: \u2500\u2500\u2500\u2500\u2500\u2500\u2500\u2500, d\u2082: 1, d\u2083: 1\u23ac\u23a5\n",
        "  3\u22c5d\u2081 - 2         d\u2081                 \u23aa\u23a5\n",
        "                                      \u23ad\u23a6"
       ]
      }
     ],
     "prompt_number": 21
    },
    {
     "cell_type": "code",
     "collapsed": false,
     "input": [
      "bs,ds,cs,As=vrk.substitute([b.T,d,c,A],sol2[0],executexpand=True)\n",
      "bs,ds,cs,As"
     ],
     "language": "python",
     "metadata": {},
     "outputs": [
      {
       "latex": [
        "$$\\begin{pmatrix}\\left[\\begin{smallmatrix}0 & \\frac{9}{4} \\frac{d_{1}^{2}}{3 d_{1}^{2} - 3 d_{1} + 1} - 3 \\frac{d_{1}}{3 d_{1}^{2} - 3 d_{1} + 1} + \\frac{1}{3 d_{1}^{2} - 3 d_{1} + 1} & \\frac{3}{4} \\frac{d_{1}^{2}}{3 d_{1}^{2} - 3 d_{1} + 1}\\end{smallmatrix}\\right], & \\left[\\begin{smallmatrix}d_{1}\\\\1\\\\1\\end{smallmatrix}\\right], & \\left[\\begin{smallmatrix}0\\\\\\frac{d_{1}}{3 d_{1} -2} - \\frac{1}{3 d_{1} -2}\\\\1 - \\frac{1}{3 d_{1}}\\end{smallmatrix}\\right], & \\left[\\begin{smallmatrix}0 & 0 & 0\\\\\\frac{d_{1}}{3 d_{1} -2} - \\frac{1}{3 d_{1} -2} & 0 & 0\\\\- 9 \\frac{d_{1}^{3}}{9 d_{1}^{3} - 9 d_{1}^{2}} + 18 \\frac{d_{1}^{2}}{9 d_{1}^{3} - 9 d_{1}^{2}} - 15 \\frac{d_{1}}{9 d_{1}^{3} - 9 d_{1}^{2}} + \\frac{4}{9 d_{1}^{3} - 9 d_{1}^{2}} & 18 \\frac{d_{1}^{3}}{9 d_{1}^{3} - 9 d_{1}^{2}} - 30 \\frac{d_{1}^{2}}{9 d_{1}^{3} - 9 d_{1}^{2}} + 18 \\frac{d_{1}}{9 d_{1}^{3} - 9 d_{1}^{2}} - \\frac{4}{9 d_{1}^{3} - 9 d_{1}^{2}} & 0\\end{smallmatrix}\\right]\\end{pmatrix}$$"
       ],
       "output_type": "pyout",
       "prompt_number": 22,
       "text": [
        "\u239b\u23a1              2                                                           2 \n",
        "\u239c\u23a2          9\u22c5d\u2081                  3\u22c5d\u2081                1                 3\u22c5d\u2081  \n",
        "\u239c\u23a20  \u2500\u2500\u2500\u2500\u2500\u2500\u2500\u2500\u2500\u2500\u2500\u2500\u2500\u2500\u2500\u2500\u2500\u2500\u2500\u2500 - \u2500\u2500\u2500\u2500\u2500\u2500\u2500\u2500\u2500\u2500\u2500\u2500\u2500\u2500\u2500\u2500 + \u2500\u2500\u2500\u2500\u2500\u2500\u2500\u2500\u2500\u2500\u2500\u2500\u2500\u2500\u2500\u2500  \u2500\u2500\u2500\u2500\u2500\u2500\u2500\u2500\u2500\u2500\u2500\u2500\u2500\n",
        "\u239c\u23a2     \u239b    2           \u239e       2                  2               \u239b    2     \n",
        "\u239c\u23a3   4\u22c5\u239d3\u22c5d\u2081  - 3\u22c5d\u2081 + 1\u23a0   3\u22c5d\u2081  - 3\u22c5d\u2081 + 1   3\u22c5d\u2081  - 3\u22c5d\u2081 + 1  4\u22c5\u239d3\u22c5d\u2081  - 3\u22c5\n",
        "\u239c                                                                             \n",
        "\u239c                                                                             \n",
        "\u239c                                                                             \n",
        "\u239c                                                                             \n",
        "\u239c                                                                             \n",
        "\u239c                                                                             \n",
        "\u239c                                                                             \n",
        "\u239d                                                                             \n",
        "\n",
        "       \u23a4                                                                      \n",
        "       \u23a5                                                                      \n",
        "\u2500\u2500\u2500\u2500\u2500\u2500\u2500\u23a5, \u23a1d\u2081\u23a4, \u23a1         0         \u23a4, \u23a1                               0      \n",
        "      \u239e\u23a5  \u23a2  \u23a5  \u23a2                   \u23a5  \u23a2                                      \n",
        "d\u2081 + 1\u23a0\u23a6  \u23a21 \u23a5  \u23a2   d\u2081         1    \u23a5  \u23a2                         d\u2081         1 \n",
        "          \u23a2  \u23a5  \u23a2\u2500\u2500\u2500\u2500\u2500\u2500\u2500\u2500 - \u2500\u2500\u2500\u2500\u2500\u2500\u2500\u2500\u23a5  \u23a2                      \u2500\u2500\u2500\u2500\u2500\u2500\u2500\u2500 - \u2500\u2500\u2500\u2500\u2500\n",
        "          \u23a31 \u23a6  \u23a23\u22c5d\u2081 - 2   3\u22c5d\u2081 - 2\u23a5  \u23a2                      3\u22c5d\u2081 - 2   3\u22c5d\u2081 \n",
        "                \u23a2                   \u23a5  \u23a2                                      \n",
        "                \u23a2          1        \u23a5  \u23a2          3                2          \n",
        "                \u23a2     1 - \u2500\u2500\u2500\u2500      \u23a5  \u23a2      9\u22c5d\u2081            18\u22c5d\u2081           \n",
        "                \u23a3         3\u22c5d\u2081      \u23a6  \u23a2- \u2500\u2500\u2500\u2500\u2500\u2500\u2500\u2500\u2500\u2500\u2500\u2500\u2500 + \u2500\u2500\u2500\u2500\u2500\u2500\u2500\u2500\u2500\u2500\u2500\u2500\u2500 - \u2500\u2500\u2500\u2500\n",
        "                                       \u23a2      3       2       3       2       \n",
        "                                       \u23a3  9\u22c5d\u2081  - 9\u22c5d\u2081    9\u22c5d\u2081  - 9\u22c5d\u2081    9\u22c5d\u2081\n",
        "\n",
        "                                                                              \n",
        "                                                                              \n",
        "                                                         0                    \n",
        "                                                                              \n",
        "                                                                              \n",
        "\u2500\u2500\u2500                                                      0                    \n",
        "- 2                                                                           \n",
        "                                                                              \n",
        "                                    3               2                         \n",
        "15\u22c5d\u2081             4            18\u22c5d\u2081           30\u22c5d\u2081           18\u22c5d\u2081          \n",
        "\u2500\u2500\u2500\u2500\u2500\u2500\u2500\u2500\u2500 + \u2500\u2500\u2500\u2500\u2500\u2500\u2500\u2500\u2500\u2500\u2500\u2500\u2500  \u2500\u2500\u2500\u2500\u2500\u2500\u2500\u2500\u2500\u2500\u2500\u2500\u2500 - \u2500\u2500\u2500\u2500\u2500\u2500\u2500\u2500\u2500\u2500\u2500\u2500\u2500 + \u2500\u2500\u2500\u2500\u2500\u2500\u2500\u2500\u2500\u2500\u2500\u2500\u2500 - \u2500\u2500\u2500\n",
        "3       2       3       2      3       2       3       2       3       2      \n",
        "  - 9\u22c5d\u2081    9\u22c5d\u2081  - 9\u22c5d\u2081   9\u22c5d\u2081  - 9\u22c5d\u2081    9\u22c5d\u2081  - 9\u22c5d\u2081    9\u22c5d\u2081  - 9\u22c5d\u2081    9\u22c5d\n",
        "\n",
        "              \u239e\n",
        "              \u239f\n",
        "            0\u23a4\u239f\n",
        "             \u23a5\u239f\n",
        "             \u23a5\u239f\n",
        "            0\u23a5\u239f\n",
        "             \u23a5\u239f\n",
        "             \u23a5\u239f\n",
        "             \u23a5\u239f\n",
        "   4         \u23a5\u239f\n",
        "\u2500\u2500\u2500\u2500\u2500\u2500\u2500\u2500\u2500\u2500  0\u23a5\u239f\n",
        " 3       2   \u23a5\u239f\n",
        "\u2081  - 9\u22c5d\u2081    \u23a6\u23a0"
       ]
      }
     ],
     "prompt_number": 22
    },
    {
     "cell_type": "code",
     "collapsed": false,
     "input": [
      "vrk.substitute([bs,ds,cs,As],{d[0][0]:Rational(1,3)}), vrk.substitute([bs,ds,cs,As],{d[0][0]:Rational(1,2)})"
     ],
     "language": "python",
     "metadata": {},
     "outputs": [
      {
       "latex": [
        "$$\\begin{pmatrix}\\begin{pmatrix}\\left[\\begin{smallmatrix}0 & \\frac{3}{4} & \\frac{1}{4}\\end{smallmatrix}\\right], & \\left[\\begin{smallmatrix}\\frac{1}{3}\\\\1\\\\1\\end{smallmatrix}\\right], & \\left[\\begin{smallmatrix}0\\\\\\frac{2}{3}\\\\0\\end{smallmatrix}\\right], & \\left[\\begin{smallmatrix}0 & 0 & 0\\\\\\frac{2}{3} & 0 & 0\\\\-1 & 1 & 0\\end{smallmatrix}\\right]\\end{pmatrix}, & \\begin{pmatrix}\\left[\\begin{smallmatrix}0 & \\frac{1}{4} & \\frac{3}{4}\\end{smallmatrix}\\right], & \\left[\\begin{smallmatrix}\\frac{1}{2}\\\\1\\\\1\\end{smallmatrix}\\right], & \\left[\\begin{smallmatrix}0\\\\1\\\\\\frac{1}{3}\\end{smallmatrix}\\right], & \\left[\\begin{smallmatrix}0 & 0 & 0\\\\1 & 0 & 0\\\\\\frac{1}{9} & \\frac{2}{9} & 0\\end{smallmatrix}\\right]\\end{pmatrix}\\end{pmatrix}$$"
       ],
       "output_type": "pyout",
       "prompt_number": 23,
       "text": [
        "\u239b\u239b[0  3/4  1/4], \u23a11/3\u23a4, \u23a1 0 \u23a4, \u23a1 0   0  0\u23a4\u239e, \u239b[0  1/4  3/4], \u23a11/2\u23a4, \u23a1 0 \u23a4, \u23a1 0\n",
        "\u239c\u239c               \u23a2   \u23a5  \u23a2   \u23a5  \u23a2         \u23a5\u239f  \u239c               \u23a2   \u23a5  \u23a2   \u23a5  \u23a2  \n",
        "\u239c\u239c               \u23a2 1 \u23a5  \u23a22/3\u23a5  \u23a22/3  0  0\u23a5\u239f  \u239c               \u23a2 1 \u23a5  \u23a2 1 \u23a5  \u23a2 1\n",
        "\u239c\u239c               \u23a2   \u23a5  \u23a2   \u23a5  \u23a2         \u23a5\u239f  \u239c               \u23a2   \u23a5  \u23a2   \u23a5  \u23a2  \n",
        "\u239d\u239d               \u23a3 1 \u23a6  \u23a3 0 \u23a6  \u23a3-1   1  0\u23a6\u23a0  \u239d               \u23a3 1 \u23a6  \u23a31/3\u23a6  \u23a31/\n",
        "\n",
        "    0   0\u23a4\u239e\u239e\n",
        "         \u23a5\u239f\u239f\n",
        "    0   0\u23a5\u239f\u239f\n",
        "         \u23a5\u239f\u239f\n",
        "9  2/9  0\u23a6\u23a0\u23a0"
       ]
      }
     ],
     "prompt_number": 23
    }
   ],
   "metadata": {}
  }
 ]
}